{
 "cells": [
  {
   "cell_type": "code",
   "execution_count": 3,
   "id": "d89f021f-e67e-4e11-a1ad-6dedd0f4074d",
   "metadata": {
    "ExecuteTime": {
     "end_time": "2024-12-08T22:21:42.923963Z",
     "start_time": "2024-12-08T22:21:42.906956Z"
    }
   },
   "outputs": [],
   "source": [
    "# -*- coding: utf-8 -*-\n",
    "#\n",
    "# Licensed under the Apache License, Version 2.0 (the \"License\");\n",
    "# you may not use this file except in compliance with the License.\n",
    "# You may obtain a copy of the License at\n",
    "#\n",
    "# http://www.apache.org/licenses/LICENSE-2.0\n",
    "#\n",
    "# Unless required by applicable law or agreed to in writing, software\n",
    "# distributed under the License is distributed on an \"AS IS\" BASIS,\n",
    "# WITHOUT WARRANTIES OR CONDITIONS OF ANY KIND, either express or\n",
    "# implied.\n",
    "# See the License for the specific language governing permissions and\n",
    "# limitations under the License."
   ]
  },
  {
   "cell_type": "markdown",
   "id": "1afb4739-c240-4a60-9a50-7cc312d2931e",
   "metadata": {},
   "source": [
    "# The Quest"
   ]
  },
  {
   "cell_type": "markdown",
   "id": "17e313e5-db4e-4779-ad8d-65ca19b0c191",
   "metadata": {},
   "source": [
    "## 4.1 EDA and Data Preprocessing"
   ]
  },
  {
   "cell_type": "markdown",
   "id": "d89c94d5-0e07-4475-a867-16fbe6373a46",
   "metadata": {},
   "source": [
    "Zvolili sme si Age Detection Dataset (3 classes: old, middle, young) a s ním budeme aj pracovať"
   ]
  },
  {
   "cell_type": "markdown",
   "id": "acc92cf8-11e3-49f5-b94c-eed887b2288e",
   "metadata": {},
   "source": [
    "### EDA"
   ]
  },
  {
   "cell_type": "code",
   "execution_count": 4,
   "id": "0e9d1753-96ca-4c46-b685-360c1bb576e5",
   "metadata": {
    "ExecuteTime": {
     "end_time": "2024-12-08T22:21:43.129960Z",
     "start_time": "2024-12-08T22:21:42.964954Z"
    }
   },
   "outputs": [],
   "source": [
    "import numpy as np\n",
    "import pandas as pd\n",
    "from sklearn.model_selection import cross_val_score, GridSearchCV\n",
    "from sklearn.metrics import accuracy_score, precision_score, recall_score, f1_score\n",
    "from sklearn.metrics import confusion_matrix, classification_report\n",
    "from sklearn.ensemble import RandomForestClassifier\n",
    "from sklearn.svm import SVC\n",
    "from sklearn.linear_model import LogisticRegression\n",
    "import matplotlib.pyplot as plt\n",
    "import seaborn as sns\n",
    "from sklearn.model_selection import train_test_split\n",
    "from sklearn.preprocessing import StandardScaler\n",
    "from sklearn.feature_selection import RFE\n",
    "from sklearn.svm import SVR\n",
    "import math\n",
    "import os"
   ]
  },
  {
   "cell_type": "code",
   "execution_count": 5,
   "id": "143a2ec0-859d-4162-b6de-5a9a09bc2d9e",
   "metadata": {
    "ExecuteTime": {
     "end_time": "2024-12-08T22:21:43.161955Z",
     "start_time": "2024-12-08T22:21:43.131956Z"
    }
   },
   "outputs": [
    {
     "name": "stdout",
     "output_type": "stream",
     "text": [
      "          ID   Class\n",
      "0    377.jpg  MIDDLE\n",
      "1  17814.jpg   YOUNG\n",
      "2  21283.jpg  MIDDLE\n",
      "3  16496.jpg   YOUNG\n",
      "4   4487.jpg  MIDDLE\n"
     ]
    }
   ],
   "source": [
    "data = pd.read_csv('data/faces/train.csv')\n",
    "\n",
    "print(data.head())"
   ]
  },
  {
   "cell_type": "code",
   "execution_count": 6,
   "id": "e1d69562-d6f9-4c73-8d10-12f4b0145547",
   "metadata": {
    "ExecuteTime": {
     "end_time": "2024-12-08T22:21:43.177955Z",
     "start_time": "2024-12-08T22:21:43.162955Z"
    }
   },
   "outputs": [
    {
     "name": "stdout",
     "output_type": "stream",
     "text": [
      "<class 'pandas.core.frame.DataFrame'>\n",
      "RangeIndex: 19906 entries, 0 to 19905\n",
      "Data columns (total 2 columns):\n",
      " #   Column  Non-Null Count  Dtype \n",
      "---  ------  --------------  ----- \n",
      " 0   ID      19906 non-null  object\n",
      " 1   Class   19906 non-null  object\n",
      "dtypes: object(2)\n",
      "memory usage: 311.2+ KB\n",
      "Class\n",
      "MIDDLE    10804\n",
      "YOUNG      6706\n",
      "OLD        2396\n",
      "Name: count, dtype: int64\n"
     ]
    }
   ],
   "source": [
    "data.info()\n",
    "print(data['Class'].value_counts())"
   ]
  },
  {
   "cell_type": "code",
   "execution_count": 7,
   "id": "82758853-83f4-4e8e-9819-c4ba0574a3b3",
   "metadata": {
    "ExecuteTime": {
     "end_time": "2024-12-08T22:21:43.303960Z",
     "start_time": "2024-12-08T22:21:43.178955Z"
    }
   },
   "outputs": [
    {
     "data": {
      "image/png": "[encoded data removed]",
      "text/plain": [
       "<Figure size 800x600 with 1 Axes>"
      ]
     },
     "metadata": {},
     "output_type": "display_data"
    }
   ],
   "source": [
    "plt.figure(figsize=(8, 6))\n",
    "sns.countplot(data=data, x='Class', order=['YOUNG', 'MIDDLE', 'OLD'])\n",
    "plt.title('distribution')\n",
    "plt.xlabel('class')\n",
    "plt.ylabel('amount')\n",
    "plt.show()"
   ]
  },
  {
   "cell_type": "markdown",
   "id": "aeb754dc7831f130",
   "metadata": {},
   "source": [
    "#### môžeme si všimnúť, že dataset je mierne nevyvážený"
   ]
  },
  {
   "cell_type": "code",
   "execution_count": 8,
   "id": "aed98daf9f19279a",
   "metadata": {
    "ExecuteTime": {
     "end_time": "2024-12-08T22:21:43.319954Z",
     "start_time": "2024-12-08T22:21:43.304955Z"
    }
   },
   "outputs": [
    {
     "name": "stdout",
     "output_type": "stream",
     "text": [
      "Class\n",
      "MIDDLE    54.275093\n",
      "YOUNG     33.688335\n",
      "OLD       12.036572\n",
      "Name: proportion, dtype: float64\n"
     ]
    }
   ],
   "source": [
    "percentages = data['Class'].value_counts(normalize=True) * 100\n",
    "print(percentages)"
   ]
  },
  {
   "cell_type": "code",
   "execution_count": 9,
   "id": "8e126f7b-5e9b-4f32-8d39-52f61d696815",
   "metadata": {
    "ExecuteTime": {
     "end_time": "2024-12-08T22:21:44.337960Z",
     "start_time": "2024-12-08T22:21:43.320955Z"
    }
   },
   "outputs": [
    {
     "name": "stdout",
     "output_type": "stream",
     "text": [
      "Missing files: 0\n"
     ]
    }
   ],
   "source": [
    "images_path = \"data/faces/Train\"\n",
    "missing_files = []\n",
    "for image_id in data['ID']:\n",
    "    if not os.path.exists(os.path.join(images_path, image_id)):\n",
    "        missing_files.append(image_id)\n",
    "\n",
    "\n",
    "print(f\"Missing files: {len(missing_files)}\")"
   ]
  },
  {
   "cell_type": "code",
   "execution_count": 10,
   "id": "71c33aa5-8f9b-4159-9d7d-7c1637fd7ed2",
   "metadata": {
    "ExecuteTime": {
     "end_time": "2024-12-08T22:21:44.353960Z",
     "start_time": "2024-12-08T22:21:44.338955Z"
    }
   },
   "outputs": [
    {
     "data": {
      "text/plain": [
       "(0, 0)"
      ]
     },
     "execution_count": 10,
     "metadata": {},
     "output_type": "execute_result"
    }
   ],
   "source": [
    "duplicate_rows = data[data.duplicated()]\n",
    "\n",
    "duplicate_ids = data[data['ID'].duplicated()]\n",
    "\n",
    "duplicate_row_count = duplicate_rows.shape[0]\n",
    "duplicate_id_count = duplicate_ids.shape[0]\n",
    "\n",
    "duplicate_row_count, duplicate_id_count"
   ]
  },
  {
   "cell_type": "markdown",
   "id": "26cc7e50-f2ca-4753-a3ed-13d0662589c8",
   "metadata": {},
   "source": [
    "Zistili sme, že nám žiadne obrázky nechýbajú a dáta neobsahujú ani duplicitné hodnoty. "
   ]
  },
  {
   "cell_type": "markdown",
   "id": "f73718d6-b8cb-4ba9-9e34-29f42bcc67b8",
   "metadata": {},
   "source": [
    "### Data Preprocessing"
   ]
  },
  {
   "cell_type": "code",
   "execution_count": 11,
   "id": "8850bb26-9146-43d6-813f-532a85ad12fb",
   "metadata": {
    "ExecuteTime": {
     "end_time": "2024-12-08T22:21:44.369955Z",
     "start_time": "2024-12-08T22:21:44.354955Z"
    }
   },
   "outputs": [
    {
     "name": "stdout",
     "output_type": "stream",
     "text": [
      "<class 'pandas.core.frame.DataFrame'>\n",
      "RangeIndex: 19906 entries, 0 to 19905\n",
      "Data columns (total 2 columns):\n",
      " #   Column  Non-Null Count  Dtype\n",
      "---  ------  --------------  -----\n",
      " 0   ID      19906 non-null  int32\n",
      " 1   Class   19906 non-null  int32\n",
      "dtypes: int32(2)\n",
      "memory usage: 155.6 KB\n"
     ]
    },
    {
     "data": {
      "text/plain": [
       "(      ID  Class\n",
       " 0    377      0\n",
       " 1  17814      2\n",
       " 2  21283      0\n",
       " 3  16496      2\n",
       " 4   4487      0,\n",
       " {'MIDDLE': 0, 'OLD': 1, 'YOUNG': 2})"
      ]
     },
     "execution_count": 11,
     "metadata": {},
     "output_type": "execute_result"
    }
   ],
   "source": [
    "from sklearn.preprocessing import LabelEncoder\n",
    "label_encoder = LabelEncoder()\n",
    "\n",
    "data['ID'] = data['ID'].str.replace('.jpg', '').astype(int)\n",
    "\n",
    "data['Class'] = label_encoder.fit_transform(data['Class'])\n",
    "\n",
    "class_mapping = dict(zip(label_encoder.classes_, label_encoder.transform(label_encoder.classes_)))\n",
    "data.info()\n",
    "data.head(), class_mapping"
   ]
  },
  {
   "cell_type": "markdown",
   "id": "7f80b642-c013-4eed-8a99-abc08f6ba6df",
   "metadata": {},
   "source": [
    "#### Zmenili sme všetky dátové typy na numerické dátové typy - *encoding* a to nasledovne, ID - sme iba odstránili .jpg (aby to sa na to nepozeralo ako na objekt),Class - sme zakódovali nasledovne - 0 - MIDDLE; 1 - OLD; 2 - YOUNG  "
   ]
  },
  {
   "cell_type": "markdown",
   "id": "ab0714296758d37f",
   "metadata": {},
   "source": [
    "#### Nasledne spojime data z obrazkov s datami z .csv suboru , aby sme pracovali s jednym datasetom "
   ]
  },
  {
   "cell_type": "code",
   "execution_count": 12,
   "id": "cde68c4b5780e103",
   "metadata": {
    "ExecuteTime": {
     "end_time": "2024-12-08T22:22:00.473180Z",
     "start_time": "2024-12-08T22:21:44.370955Z"
    }
   },
   "outputs": [
    {
     "data": {
      "text/html": [
       "<div>\n",
       "<style scoped>\n",
       "    .dataframe tbody tr th:only-of-type {\n",
       "        vertical-align: middle;\n",
       "    }\n",
       "\n",
       "    .dataframe tbody tr th {\n",
       "        vertical-align: top;\n",
       "    }\n",
       "\n",
       "    .dataframe thead th {\n",
       "        text-align: right;\n",
       "    }\n",
       "</style>\n",
       "<table border=\"1\" class=\"dataframe\">\n",
       "  <thead>\n",
       "    <tr style=\"text-align: right;\">\n",
       "      <th></th>\n",
       "      <th>ID</th>\n",
       "      <th>Class</th>\n",
       "      <th>Image</th>\n",
       "    </tr>\n",
       "  </thead>\n",
       "  <tbody>\n",
       "    <tr>\n",
       "      <th>0</th>\n",
       "      <td>377</td>\n",
       "      <td>0</td>\n",
       "      <td>[[[51, 47, 48], [49, 46, 47], [44, 42, 43], [4...</td>\n",
       "    </tr>\n",
       "    <tr>\n",
       "      <th>1</th>\n",
       "      <td>17814</td>\n",
       "      <td>2</td>\n",
       "      <td>[[[47, 30, 36], [47, 30, 36], [47, 30, 36], [4...</td>\n",
       "    </tr>\n",
       "    <tr>\n",
       "      <th>2</th>\n",
       "      <td>21283</td>\n",
       "      <td>0</td>\n",
       "      <td>[[[44, 40, 39], [44, 39, 38], [46, 40, 40], [5...</td>\n",
       "    </tr>\n",
       "    <tr>\n",
       "      <th>3</th>\n",
       "      <td>16496</td>\n",
       "      <td>2</td>\n",
       "      <td>[[[21, 21, 21], [21, 21, 21], [21, 21, 21], [2...</td>\n",
       "    </tr>\n",
       "    <tr>\n",
       "      <th>4</th>\n",
       "      <td>4487</td>\n",
       "      <td>0</td>\n",
       "      <td>[[[28, 27, 33], [24, 23, 29], [23, 21, 27], [1...</td>\n",
       "    </tr>\n",
       "  </tbody>\n",
       "</table>\n",
       "</div>"
      ],
      "text/plain": [
       "      ID  Class                                              Image\n",
       "0    377      0  [[[51, 47, 48], [49, 46, 47], [44, 42, 43], [4...\n",
       "1  17814      2  [[[47, 30, 36], [47, 30, 36], [47, 30, 36], [4...\n",
       "2  21283      0  [[[44, 40, 39], [44, 39, 38], [46, 40, 40], [5...\n",
       "3  16496      2  [[[21, 21, 21], [21, 21, 21], [21, 21, 21], [2...\n",
       "4   4487      0  [[[28, 27, 33], [24, 23, 29], [23, 21, 27], [1..."
      ]
     },
     "execution_count": 12,
     "metadata": {},
     "output_type": "execute_result"
    }
   ],
   "source": [
    "from PIL import Image\n",
    "import numpy as np\n",
    "\n",
    "images_path = \"data/faces/Train\"\n",
    "data['Image'] = None\n",
    "\n",
    "for idx, row in data.iterrows():\n",
    "    image_path = os.path.join(images_path, f\"{row['ID']}.jpg\")\n",
    "    if os.path.exists(image_path):\n",
    "        with Image.open(image_path) as img:\n",
    "            img = img.resize((64, 64))\n",
    "            img_array = np.array(img)\n",
    "            data.at[idx, 'Image'] = img_array\n",
    "    else:\n",
    "        print(f\"Obrázok {row['ID']} neexistuje!\")\n",
    "\n",
    "data.head()"
   ]
  },
  {
   "cell_type": "markdown",
   "id": "73b10a76d02adac0",
   "metadata": {},
   "source": [
    "#### Všetky obrázky sme normalizovali"
   ]
  },
  {
   "cell_type": "code",
   "execution_count": 13,
   "id": "9d07b6979053f571",
   "metadata": {
    "ExecuteTime": {
     "end_time": "2024-12-08T22:22:02.604436Z",
     "start_time": "2024-12-08T22:22:00.475119Z"
    }
   },
   "outputs": [
    {
     "name": "stdout",
     "output_type": "stream",
     "text": [
      "[[[[ 51  47  48]\n",
      "   [ 49  46  47]\n",
      "   [ 44  42  43]\n",
      "   ...\n",
      "   [  3  10   2]\n",
      "   [  7  15   6]\n",
      "   [  6  14   5]]\n",
      "\n",
      "  [[ 51  48  49]\n",
      "   [ 48  46  47]\n",
      "   [ 44  42  43]\n",
      "   ...\n",
      "   [  9  15   8]\n",
      "   [ 13  19  11]\n",
      "   [ 12  18  10]]\n",
      "\n",
      "  [[ 57  55  56]\n",
      "   [ 54  52  53]\n",
      "   [ 50  48  49]\n",
      "   ...\n",
      "   [ 18  23  16]\n",
      "   [ 20  25  18]\n",
      "   [ 19  24  17]]\n",
      "\n",
      "  ...\n",
      "\n",
      "  [[124 152 140]\n",
      "   [117 142 132]\n",
      "   [ 92 114 105]\n",
      "   ...\n",
      "   [101 116 123]\n",
      "   [121 136 143]\n",
      "   [135 150 157]]\n",
      "\n",
      "  [[120 148 136]\n",
      "   [113 139 128]\n",
      "   [ 89 111 102]\n",
      "   ...\n",
      "   [104 120 127]\n",
      "   [124 139 146]\n",
      "   [138 153 160]]\n",
      "\n",
      "  [[121 149 137]\n",
      "   [114 140 129]\n",
      "   [ 89 111 101]\n",
      "   ...\n",
      "   [103 118 125]\n",
      "   [122 137 144]\n",
      "   [136 151 158]]]\n",
      "\n",
      "\n",
      " [[[ 47  30  36]\n",
      "   [ 47  30  36]\n",
      "   [ 47  30  36]\n",
      "   ...\n",
      "   [ 35  22  14]\n",
      "   [ 35  24  15]\n",
      "   [ 35  25  15]]\n",
      "\n",
      "  [[ 46  29  33]\n",
      "   [ 46  29  33]\n",
      "   [ 45  29  33]\n",
      "   ...\n",
      "   [ 35  22  13]\n",
      "   [ 37  24  15]\n",
      "   [ 37  25  16]]\n",
      "\n",
      "  [[ 43  27  30]\n",
      "   [ 43  27  30]\n",
      "   [ 42  27  30]\n",
      "   ...\n",
      "   [ 37  23  14]\n",
      "   [ 37  23  14]\n",
      "   [ 36  23  14]]\n",
      "\n",
      "  ...\n",
      "\n",
      "  [[134  64  52]\n",
      "   [120  51  38]\n",
      "   [111  43  30]\n",
      "   ...\n",
      "   [ 57  21   7]\n",
      "   [ 58  24  10]\n",
      "   [ 58  26  14]]\n",
      "\n",
      "  [[147  76  64]\n",
      "   [143  71  60]\n",
      "   [137  65  54]\n",
      "   ...\n",
      "   [ 86  33  20]\n",
      "   [ 78  29  17]\n",
      "   [ 74  29  18]]\n",
      "\n",
      "  [[145  71  60]\n",
      "   [140  66  55]\n",
      "   [136  62  51]\n",
      "   ...\n",
      "   [117  50  40]\n",
      "   [103  43  32]\n",
      "   [ 95  40  29]]]\n",
      "\n",
      "\n",
      " [[[ 44  40  39]\n",
      "   [ 44  39  38]\n",
      "   [ 46  40  40]\n",
      "   ...\n",
      "   [239 223 183]\n",
      "   [247 234 193]\n",
      "   [251 239 198]]\n",
      "\n",
      "  [[ 41  37  36]\n",
      "   [ 42  37  36]\n",
      "   [ 44  38  38]\n",
      "   ...\n",
      "   [255 246 206]\n",
      "   [255 247 204]\n",
      "   [255 249 206]]\n",
      "\n",
      "  [[ 36  32  31]\n",
      "   [ 38  33  32]\n",
      "   [ 40  34  34]\n",
      "   ...\n",
      "   [255 244 203]\n",
      "   [255 247 203]\n",
      "   [255 249 205]]\n",
      "\n",
      "  ...\n",
      "\n",
      "  [[ 52  48  40]\n",
      "   [ 52  48  40]\n",
      "   [ 52  48  40]\n",
      "   ...\n",
      "   [ 67  74  73]\n",
      "   [ 70  74  74]\n",
      "   [ 71  73  75]]\n",
      "\n",
      "  [[ 51  48  43]\n",
      "   [ 51  48  43]\n",
      "   [ 51  48  43]\n",
      "   ...\n",
      "   [ 64  70  70]\n",
      "   [ 66  72  71]\n",
      "   [ 67  72  73]]\n",
      "\n",
      "  [[ 51  48  43]\n",
      "   [ 51  48  43]\n",
      "   [ 51  48  43]\n",
      "   ...\n",
      "   [ 62  68  68]\n",
      "   [ 63  69  69]\n",
      "   [ 64  70  70]]]\n",
      "\n",
      "\n",
      " ...\n",
      "\n",
      "\n",
      " [[[ 17  21  30]\n",
      "   [ 17  21  30]\n",
      "   [ 18  21  29]\n",
      "   ...\n",
      "   [ 71  23  17]\n",
      "   [ 86  30  28]\n",
      "   [109  48  46]]\n",
      "\n",
      "  [[ 18  22  31]\n",
      "   [ 18  22  31]\n",
      "   [ 19  22  30]\n",
      "   ...\n",
      "   [ 80  26  19]\n",
      "   [ 93  32  29]\n",
      "   [115  51  47]]\n",
      "\n",
      "  [[ 19  23  32]\n",
      "   [ 19  23  32]\n",
      "   [ 19  22  30]\n",
      "   ...\n",
      "   [ 92  31  23]\n",
      "   [103  35  29]\n",
      "   [125  54  49]]\n",
      "\n",
      "  ...\n",
      "\n",
      "  [[148 136 133]\n",
      "   [131 119 116]\n",
      "   [102  89  88]\n",
      "   ...\n",
      "   [217 194 161]\n",
      "   [213 192 157]\n",
      "   [218 197 160]]\n",
      "\n",
      "  [[151 135 132]\n",
      "   [148 134 130]\n",
      "   [129 114 112]\n",
      "   ...\n",
      "   [215 192 156]\n",
      "   [219 198 160]\n",
      "   [222 200 162]]\n",
      "\n",
      "  [[153 135 131]\n",
      "   [153 136 133]\n",
      "   [136 118 118]\n",
      "   ...\n",
      "   [219 195 158]\n",
      "   [220 198 160]\n",
      "   [222 200 161]]]\n",
      "\n",
      "\n",
      " [[[ 17  18  36]\n",
      "   [ 15  18  35]\n",
      "   [ 12  17  33]\n",
      "   ...\n",
      "   [ 12  11  16]\n",
      "   [ 12  11  16]\n",
      "   [ 13  11  13]]\n",
      "\n",
      "  [[ 16  17  35]\n",
      "   [ 14  17  34]\n",
      "   [ 12  17  33]\n",
      "   ...\n",
      "   [ 13  11  15]\n",
      "   [ 12  12  15]\n",
      "   [ 13  11  13]]\n",
      "\n",
      "  [[ 13  14  32]\n",
      "   [ 12  15  32]\n",
      "   [ 11  16  32]\n",
      "   ...\n",
      "   [ 16  11  11]\n",
      "   [ 13  11  13]\n",
      "   [ 13  11  12]]\n",
      "\n",
      "  ...\n",
      "\n",
      "  [[162 101  76]\n",
      "   [159  98  73]\n",
      "   [156  94  68]\n",
      "   ...\n",
      "   [ 25   9   9]\n",
      "   [ 21  11  12]\n",
      "   [ 19  12  13]]\n",
      "\n",
      "  [[165 105  79]\n",
      "   [163 103  77]\n",
      "   [161 100  73]\n",
      "   ...\n",
      "   [ 29  10  11]\n",
      "   [ 27  11  14]\n",
      "   [ 25  11  15]]\n",
      "\n",
      "  [[163 105  79]\n",
      "   [164 104  78]\n",
      "   [163 102  75]\n",
      "   ...\n",
      "   [ 52  30  32]\n",
      "   [ 51  31  35]\n",
      "   [ 50  31  36]]]\n",
      "\n",
      "\n",
      " [[[157 134 121]\n",
      "   [159 139 125]\n",
      "   [159 141 127]\n",
      "   ...\n",
      "   [ 23  12   7]\n",
      "   [ 21  10   6]\n",
      "   [ 19   8   6]]\n",
      "\n",
      "  [[161 138 125]\n",
      "   [163 143 129]\n",
      "   [164 146 132]\n",
      "   ...\n",
      "   [ 23  12   6]\n",
      "   [ 21  10   6]\n",
      "   [ 19   8   6]]\n",
      "\n",
      "  [[159 137 124]\n",
      "   [162 142 129]\n",
      "   [165 147 133]\n",
      "   ...\n",
      "   [ 21  10   4]\n",
      "   [ 21  10   6]\n",
      "   [ 19   8   6]]\n",
      "\n",
      "  ...\n",
      "\n",
      "  [[112 100  88]\n",
      "   [110  98  85]\n",
      "   [107  94  80]\n",
      "   ...\n",
      "   [ 43  54  46]\n",
      "   [ 77  92  85]\n",
      "   [102 119 113]]\n",
      "\n",
      "  [[116 104  90]\n",
      "   [115 102  89]\n",
      "   [113  99  86]\n",
      "   ...\n",
      "   [ 73  87  80]\n",
      "   [ 98 115 109]\n",
      "   [116 136 130]]\n",
      "\n",
      "  [[117 104  90]\n",
      "   [115 101  88]\n",
      "   [111  96  83]\n",
      "   ...\n",
      "   [ 94 108 102]\n",
      "   [115 134 127]\n",
      "   [129 150 145]]]]\n",
      "[[[[0.2        0.18431373 0.18823529]\n",
      "   [0.19215686 0.18039216 0.18431373]\n",
      "   [0.17254902 0.16470588 0.16862745]\n",
      "   ...\n",
      "   [0.01176471 0.03921569 0.00784314]\n",
      "   [0.02745098 0.05882353 0.02352941]\n",
      "   [0.02352941 0.05490196 0.01960784]]\n",
      "\n",
      "  [[0.2        0.18823529 0.19215686]\n",
      "   [0.18823529 0.18039216 0.18431373]\n",
      "   [0.17254902 0.16470588 0.16862745]\n",
      "   ...\n",
      "   [0.03529412 0.05882353 0.03137255]\n",
      "   [0.05098039 0.0745098  0.04313725]\n",
      "   [0.04705882 0.07058824 0.03921569]]\n",
      "\n",
      "  [[0.22352941 0.21568627 0.21960784]\n",
      "   [0.21176471 0.20392157 0.20784314]\n",
      "   [0.19607843 0.18823529 0.19215686]\n",
      "   ...\n",
      "   [0.07058824 0.09019608 0.0627451 ]\n",
      "   [0.07843137 0.09803922 0.07058824]\n",
      "   [0.0745098  0.09411765 0.06666667]]\n",
      "\n",
      "  ...\n",
      "\n",
      "  [[0.48627451 0.59607843 0.54901961]\n",
      "   [0.45882353 0.55686275 0.51764706]\n",
      "   [0.36078431 0.44705882 0.41176471]\n",
      "   ...\n",
      "   [0.39607843 0.45490196 0.48235294]\n",
      "   [0.4745098  0.53333333 0.56078431]\n",
      "   [0.52941176 0.58823529 0.61568627]]\n",
      "\n",
      "  [[0.47058824 0.58039216 0.53333333]\n",
      "   [0.44313725 0.54509804 0.50196078]\n",
      "   [0.34901961 0.43529412 0.4       ]\n",
      "   ...\n",
      "   [0.40784314 0.47058824 0.49803922]\n",
      "   [0.48627451 0.54509804 0.57254902]\n",
      "   [0.54117647 0.6        0.62745098]]\n",
      "\n",
      "  [[0.4745098  0.58431373 0.5372549 ]\n",
      "   [0.44705882 0.54901961 0.50588235]\n",
      "   [0.34901961 0.43529412 0.39607843]\n",
      "   ...\n",
      "   [0.40392157 0.4627451  0.49019608]\n",
      "   [0.47843137 0.5372549  0.56470588]\n",
      "   [0.53333333 0.59215686 0.61960784]]]\n",
      "\n",
      "\n",
      " [[[0.18431373 0.11764706 0.14117647]\n",
      "   [0.18431373 0.11764706 0.14117647]\n",
      "   [0.18431373 0.11764706 0.14117647]\n",
      "   ...\n",
      "   [0.1372549  0.08627451 0.05490196]\n",
      "   [0.1372549  0.09411765 0.05882353]\n",
      "   [0.1372549  0.09803922 0.05882353]]\n",
      "\n",
      "  [[0.18039216 0.11372549 0.12941176]\n",
      "   [0.18039216 0.11372549 0.12941176]\n",
      "   [0.17647059 0.11372549 0.12941176]\n",
      "   ...\n",
      "   [0.1372549  0.08627451 0.05098039]\n",
      "   [0.14509804 0.09411765 0.05882353]\n",
      "   [0.14509804 0.09803922 0.0627451 ]]\n",
      "\n",
      "  [[0.16862745 0.10588235 0.11764706]\n",
      "   [0.16862745 0.10588235 0.11764706]\n",
      "   [0.16470588 0.10588235 0.11764706]\n",
      "   ...\n",
      "   [0.14509804 0.09019608 0.05490196]\n",
      "   [0.14509804 0.09019608 0.05490196]\n",
      "   [0.14117647 0.09019608 0.05490196]]\n",
      "\n",
      "  ...\n",
      "\n",
      "  [[0.5254902  0.25098039 0.20392157]\n",
      "   [0.47058824 0.2        0.14901961]\n",
      "   [0.43529412 0.16862745 0.11764706]\n",
      "   ...\n",
      "   [0.22352941 0.08235294 0.02745098]\n",
      "   [0.22745098 0.09411765 0.03921569]\n",
      "   [0.22745098 0.10196078 0.05490196]]\n",
      "\n",
      "  [[0.57647059 0.29803922 0.25098039]\n",
      "   [0.56078431 0.27843137 0.23529412]\n",
      "   [0.5372549  0.25490196 0.21176471]\n",
      "   ...\n",
      "   [0.3372549  0.12941176 0.07843137]\n",
      "   [0.30588235 0.11372549 0.06666667]\n",
      "   [0.29019608 0.11372549 0.07058824]]\n",
      "\n",
      "  [[0.56862745 0.27843137 0.23529412]\n",
      "   [0.54901961 0.25882353 0.21568627]\n",
      "   [0.53333333 0.24313725 0.2       ]\n",
      "   ...\n",
      "   [0.45882353 0.19607843 0.15686275]\n",
      "   [0.40392157 0.16862745 0.1254902 ]\n",
      "   [0.37254902 0.15686275 0.11372549]]]\n",
      "\n",
      "\n",
      " [[[0.17254902 0.15686275 0.15294118]\n",
      "   [0.17254902 0.15294118 0.14901961]\n",
      "   [0.18039216 0.15686275 0.15686275]\n",
      "   ...\n",
      "   [0.9372549  0.8745098  0.71764706]\n",
      "   [0.96862745 0.91764706 0.75686275]\n",
      "   [0.98431373 0.9372549  0.77647059]]\n",
      "\n",
      "  [[0.16078431 0.14509804 0.14117647]\n",
      "   [0.16470588 0.14509804 0.14117647]\n",
      "   [0.17254902 0.14901961 0.14901961]\n",
      "   ...\n",
      "   [1.         0.96470588 0.80784314]\n",
      "   [1.         0.96862745 0.8       ]\n",
      "   [1.         0.97647059 0.80784314]]\n",
      "\n",
      "  [[0.14117647 0.1254902  0.12156863]\n",
      "   [0.14901961 0.12941176 0.1254902 ]\n",
      "   [0.15686275 0.13333333 0.13333333]\n",
      "   ...\n",
      "   [1.         0.95686275 0.79607843]\n",
      "   [1.         0.96862745 0.79607843]\n",
      "   [1.         0.97647059 0.80392157]]\n",
      "\n",
      "  ...\n",
      "\n",
      "  [[0.20392157 0.18823529 0.15686275]\n",
      "   [0.20392157 0.18823529 0.15686275]\n",
      "   [0.20392157 0.18823529 0.15686275]\n",
      "   ...\n",
      "   [0.2627451  0.29019608 0.28627451]\n",
      "   [0.2745098  0.29019608 0.29019608]\n",
      "   [0.27843137 0.28627451 0.29411765]]\n",
      "\n",
      "  [[0.2        0.18823529 0.16862745]\n",
      "   [0.2        0.18823529 0.16862745]\n",
      "   [0.2        0.18823529 0.16862745]\n",
      "   ...\n",
      "   [0.25098039 0.2745098  0.2745098 ]\n",
      "   [0.25882353 0.28235294 0.27843137]\n",
      "   [0.2627451  0.28235294 0.28627451]]\n",
      "\n",
      "  [[0.2        0.18823529 0.16862745]\n",
      "   [0.2        0.18823529 0.16862745]\n",
      "   [0.2        0.18823529 0.16862745]\n",
      "   ...\n",
      "   [0.24313725 0.26666667 0.26666667]\n",
      "   [0.24705882 0.27058824 0.27058824]\n",
      "   [0.25098039 0.2745098  0.2745098 ]]]\n",
      "\n",
      "\n",
      " ...\n",
      "\n",
      "\n",
      " [[[0.06666667 0.08235294 0.11764706]\n",
      "   [0.06666667 0.08235294 0.11764706]\n",
      "   [0.07058824 0.08235294 0.11372549]\n",
      "   ...\n",
      "   [0.27843137 0.09019608 0.06666667]\n",
      "   [0.3372549  0.11764706 0.10980392]\n",
      "   [0.42745098 0.18823529 0.18039216]]\n",
      "\n",
      "  [[0.07058824 0.08627451 0.12156863]\n",
      "   [0.07058824 0.08627451 0.12156863]\n",
      "   [0.0745098  0.08627451 0.11764706]\n",
      "   ...\n",
      "   [0.31372549 0.10196078 0.0745098 ]\n",
      "   [0.36470588 0.1254902  0.11372549]\n",
      "   [0.45098039 0.2        0.18431373]]\n",
      "\n",
      "  [[0.0745098  0.09019608 0.1254902 ]\n",
      "   [0.0745098  0.09019608 0.1254902 ]\n",
      "   [0.0745098  0.08627451 0.11764706]\n",
      "   ...\n",
      "   [0.36078431 0.12156863 0.09019608]\n",
      "   [0.40392157 0.1372549  0.11372549]\n",
      "   [0.49019608 0.21176471 0.19215686]]\n",
      "\n",
      "  ...\n",
      "\n",
      "  [[0.58039216 0.53333333 0.52156863]\n",
      "   [0.51372549 0.46666667 0.45490196]\n",
      "   [0.4        0.34901961 0.34509804]\n",
      "   ...\n",
      "   [0.85098039 0.76078431 0.63137255]\n",
      "   [0.83529412 0.75294118 0.61568627]\n",
      "   [0.85490196 0.77254902 0.62745098]]\n",
      "\n",
      "  [[0.59215686 0.52941176 0.51764706]\n",
      "   [0.58039216 0.5254902  0.50980392]\n",
      "   [0.50588235 0.44705882 0.43921569]\n",
      "   ...\n",
      "   [0.84313725 0.75294118 0.61176471]\n",
      "   [0.85882353 0.77647059 0.62745098]\n",
      "   [0.87058824 0.78431373 0.63529412]]\n",
      "\n",
      "  [[0.6        0.52941176 0.51372549]\n",
      "   [0.6        0.53333333 0.52156863]\n",
      "   [0.53333333 0.4627451  0.4627451 ]\n",
      "   ...\n",
      "   [0.85882353 0.76470588 0.61960784]\n",
      "   [0.8627451  0.77647059 0.62745098]\n",
      "   [0.87058824 0.78431373 0.63137255]]]\n",
      "\n",
      "\n",
      " [[[0.06666667 0.07058824 0.14117647]\n",
      "   [0.05882353 0.07058824 0.1372549 ]\n",
      "   [0.04705882 0.06666667 0.12941176]\n",
      "   ...\n",
      "   [0.04705882 0.04313725 0.0627451 ]\n",
      "   [0.04705882 0.04313725 0.0627451 ]\n",
      "   [0.05098039 0.04313725 0.05098039]]\n",
      "\n",
      "  [[0.0627451  0.06666667 0.1372549 ]\n",
      "   [0.05490196 0.06666667 0.13333333]\n",
      "   [0.04705882 0.06666667 0.12941176]\n",
      "   ...\n",
      "   [0.05098039 0.04313725 0.05882353]\n",
      "   [0.04705882 0.04705882 0.05882353]\n",
      "   [0.05098039 0.04313725 0.05098039]]\n",
      "\n",
      "  [[0.05098039 0.05490196 0.1254902 ]\n",
      "   [0.04705882 0.05882353 0.1254902 ]\n",
      "   [0.04313725 0.0627451  0.1254902 ]\n",
      "   ...\n",
      "   [0.0627451  0.04313725 0.04313725]\n",
      "   [0.05098039 0.04313725 0.05098039]\n",
      "   [0.05098039 0.04313725 0.04705882]]\n",
      "\n",
      "  ...\n",
      "\n",
      "  [[0.63529412 0.39607843 0.29803922]\n",
      "   [0.62352941 0.38431373 0.28627451]\n",
      "   [0.61176471 0.36862745 0.26666667]\n",
      "   ...\n",
      "   [0.09803922 0.03529412 0.03529412]\n",
      "   [0.08235294 0.04313725 0.04705882]\n",
      "   [0.0745098  0.04705882 0.05098039]]\n",
      "\n",
      "  [[0.64705882 0.41176471 0.30980392]\n",
      "   [0.63921569 0.40392157 0.30196078]\n",
      "   [0.63137255 0.39215686 0.28627451]\n",
      "   ...\n",
      "   [0.11372549 0.03921569 0.04313725]\n",
      "   [0.10588235 0.04313725 0.05490196]\n",
      "   [0.09803922 0.04313725 0.05882353]]\n",
      "\n",
      "  [[0.63921569 0.41176471 0.30980392]\n",
      "   [0.64313725 0.40784314 0.30588235]\n",
      "   [0.63921569 0.4        0.29411765]\n",
      "   ...\n",
      "   [0.20392157 0.11764706 0.1254902 ]\n",
      "   [0.2        0.12156863 0.1372549 ]\n",
      "   [0.19607843 0.12156863 0.14117647]]]\n",
      "\n",
      "\n",
      " [[[0.61568627 0.5254902  0.4745098 ]\n",
      "   [0.62352941 0.54509804 0.49019608]\n",
      "   [0.62352941 0.55294118 0.49803922]\n",
      "   ...\n",
      "   [0.09019608 0.04705882 0.02745098]\n",
      "   [0.08235294 0.03921569 0.02352941]\n",
      "   [0.0745098  0.03137255 0.02352941]]\n",
      "\n",
      "  [[0.63137255 0.54117647 0.49019608]\n",
      "   [0.63921569 0.56078431 0.50588235]\n",
      "   [0.64313725 0.57254902 0.51764706]\n",
      "   ...\n",
      "   [0.09019608 0.04705882 0.02352941]\n",
      "   [0.08235294 0.03921569 0.02352941]\n",
      "   [0.0745098  0.03137255 0.02352941]]\n",
      "\n",
      "  [[0.62352941 0.5372549  0.48627451]\n",
      "   [0.63529412 0.55686275 0.50588235]\n",
      "   [0.64705882 0.57647059 0.52156863]\n",
      "   ...\n",
      "   [0.08235294 0.03921569 0.01568627]\n",
      "   [0.08235294 0.03921569 0.02352941]\n",
      "   [0.0745098  0.03137255 0.02352941]]\n",
      "\n",
      "  ...\n",
      "\n",
      "  [[0.43921569 0.39215686 0.34509804]\n",
      "   [0.43137255 0.38431373 0.33333333]\n",
      "   [0.41960784 0.36862745 0.31372549]\n",
      "   ...\n",
      "   [0.16862745 0.21176471 0.18039216]\n",
      "   [0.30196078 0.36078431 0.33333333]\n",
      "   [0.4        0.46666667 0.44313725]]\n",
      "\n",
      "  [[0.45490196 0.40784314 0.35294118]\n",
      "   [0.45098039 0.4        0.34901961]\n",
      "   [0.44313725 0.38823529 0.3372549 ]\n",
      "   ...\n",
      "   [0.28627451 0.34117647 0.31372549]\n",
      "   [0.38431373 0.45098039 0.42745098]\n",
      "   [0.45490196 0.53333333 0.50980392]]\n",
      "\n",
      "  [[0.45882353 0.40784314 0.35294118]\n",
      "   [0.45098039 0.39607843 0.34509804]\n",
      "   [0.43529412 0.37647059 0.3254902 ]\n",
      "   ...\n",
      "   [0.36862745 0.42352941 0.4       ]\n",
      "   [0.45098039 0.5254902  0.49803922]\n",
      "   [0.50588235 0.58823529 0.56862745]]]]\n"
     ]
    }
   ],
   "source": [
    "X = np.array(data['Image'].tolist())\n",
    "y = data['Class'].values\n",
    "\n",
    "print(X)\n",
    "\n",
    "# Normalization\n",
    "X = X / 255.0\n",
    "\n",
    "print(X)\n",
    "# splitting data\n",
    "X_train, X_test, y_train, y_test = train_test_split(X, y, test_size=0.2, random_state=42, stratify=y)\n"
   ]
  },
  {
   "cell_type": "code",
   "execution_count": 14,
   "id": "7f341a006543b182",
   "metadata": {
    "ExecuteTime": {
     "end_time": "2024-12-08T22:22:02.967439Z",
     "start_time": "2024-12-08T22:22:02.606436Z"
    }
   },
   "outputs": [
    {
     "data": {
      "image/png": "[encoded data removed]",
      "text/plain": [
       "<Figure size 1500x500 with 5 Axes>"
      ]
     },
     "metadata": {},
     "output_type": "display_data"
    }
   ],
   "source": [
    "fig, axes = plt.subplots(1, 5, figsize=(15, 5))\n",
    "for i, ax in enumerate(axes):\n",
    "    ax.imshow(X_train[i])\n",
    "    ax.set_title(f\"Class: {y_train[i]}\")\n",
    "    ax.axis('off')\n",
    "plt.tight_layout()\n",
    "plt.show()"
   ]
  },
  {
   "cell_type": "markdown",
   "id": "af82d4395e771998",
   "metadata": {},
   "source": [
    "#### Pre klasifikáciu obrázkového datasetu sme sa rozhodli použiť Convolutional Neural Network (CNN), pretože táto architektúra je špeciálne navrhnutá na spracovanie obrazových dát a má preukázateľnú účinnosť v podobných úlohách."
   ]
  },
  {
   "cell_type": "markdown",
   "id": "8cf525552f6c22b1",
   "metadata": {},
   "source": [
    "## 4.2 Modeling and Evaluation"
   ]
  },
  {
   "cell_type": "code",
   "execution_count": 15,
   "id": "1cbb8b71811bc1bc",
   "metadata": {
    "ExecuteTime": {
     "end_time": "2024-12-08T22:28:06.028566Z",
     "start_time": "2024-12-08T22:22:02.969436Z"
    }
   },
   "outputs": [
    {
     "name": "stdout",
     "output_type": "stream",
     "text": [
      "Epoch 1/20\n",
      "399/399 [==============================] - 17s 42ms/step - loss: 0.9337 - accuracy: 0.5572 - val_loss: 0.8578 - val_accuracy: 0.6349\n",
      "Epoch 2/20\n",
      "399/399 [==============================] - 19s 48ms/step - loss: 0.8738 - accuracy: 0.6035 - val_loss: 0.7912 - val_accuracy: 0.6581\n",
      "Epoch 3/20\n",
      "399/399 [==============================] - 26s 65ms/step - loss: 0.8531 - accuracy: 0.6108 - val_loss: 0.7679 - val_accuracy: 0.6619\n",
      "Epoch 4/20\n",
      "399/399 [==============================] - 21s 53ms/step - loss: 0.8299 - accuracy: 0.6212 - val_loss: 0.7445 - val_accuracy: 0.6785\n",
      "Epoch 5/20\n",
      "399/399 [==============================] - 17s 44ms/step - loss: 0.8253 - accuracy: 0.6280 - val_loss: 0.7197 - val_accuracy: 0.6832\n",
      "Epoch 6/20\n",
      "399/399 [==============================] - 17s 44ms/step - loss: 0.8097 - accuracy: 0.6380 - val_loss: 0.7251 - val_accuracy: 0.6832\n",
      "Epoch 7/20\n",
      "399/399 [==============================] - 17s 43ms/step - loss: 0.7938 - accuracy: 0.6450 - val_loss: 0.6953 - val_accuracy: 0.6885\n",
      "Epoch 8/20\n",
      "399/399 [==============================] - 17s 43ms/step - loss: 0.7852 - accuracy: 0.6502 - val_loss: 0.7008 - val_accuracy: 0.6907\n",
      "Epoch 9/20\n",
      "399/399 [==============================] - 17s 43ms/step - loss: 0.7786 - accuracy: 0.6538 - val_loss: 0.6932 - val_accuracy: 0.6907\n",
      "Epoch 10/20\n",
      "399/399 [==============================] - 17s 43ms/step - loss: 0.7708 - accuracy: 0.6549 - val_loss: 0.7329 - val_accuracy: 0.6876\n",
      "Epoch 11/20\n",
      "399/399 [==============================] - 17s 43ms/step - loss: 0.7634 - accuracy: 0.6651 - val_loss: 0.6723 - val_accuracy: 0.7039\n",
      "Epoch 12/20\n",
      "399/399 [==============================] - 17s 43ms/step - loss: 0.7531 - accuracy: 0.6610 - val_loss: 0.6743 - val_accuracy: 0.6936\n",
      "Epoch 13/20\n",
      "399/399 [==============================] - 17s 44ms/step - loss: 0.7504 - accuracy: 0.6707 - val_loss: 0.6626 - val_accuracy: 0.7020\n",
      "Epoch 14/20\n",
      "399/399 [==============================] - 17s 43ms/step - loss: 0.7434 - accuracy: 0.6697 - val_loss: 0.6449 - val_accuracy: 0.7133\n",
      "Epoch 15/20\n",
      "399/399 [==============================] - 17s 43ms/step - loss: 0.7370 - accuracy: 0.6782 - val_loss: 0.6551 - val_accuracy: 0.7064\n",
      "Epoch 16/20\n",
      "399/399 [==============================] - 17s 43ms/step - loss: 0.7331 - accuracy: 0.6754 - val_loss: 0.6551 - val_accuracy: 0.7140\n",
      "Epoch 17/20\n",
      "399/399 [==============================] - 17s 43ms/step - loss: 0.7215 - accuracy: 0.6818 - val_loss: 0.6406 - val_accuracy: 0.7115\n",
      "Epoch 18/20\n",
      "399/399 [==============================] - 17s 43ms/step - loss: 0.7235 - accuracy: 0.6816 - val_loss: 0.6564 - val_accuracy: 0.7008\n",
      "Epoch 19/20\n",
      "399/399 [==============================] - 17s 43ms/step - loss: 0.7194 - accuracy: 0.6849 - val_loss: 0.6606 - val_accuracy: 0.7184\n",
      "Epoch 20/20\n",
      "399/399 [==============================] - 17s 43ms/step - loss: 0.7177 - accuracy: 0.6874 - val_loss: 0.6255 - val_accuracy: 0.7184\n",
      "125/125 [==============================] - 1s 11ms/step - loss: 0.6480 - accuracy: 0.7120\n",
      "Test accuracy: 0.7119538187980652\n"
     ]
    }
   ],
   "source": [
    "# pip install tensorflow==2.12.0\n",
    "from tensorflow.keras.models import Sequential\n",
    "from tensorflow.keras.layers import Conv2D, MaxPooling2D, Flatten, Dense, Dropout\n",
    "from tensorflow.keras.preprocessing.image import ImageDataGenerator\n",
    "from sklearn.model_selection import train_test_split\n",
    "\n",
    "# Create the CNN model\n",
    "def create_age_classification_model(input_shape):\n",
    "    model = Sequential([\n",
    "        # First convolutional layer\n",
    "        Conv2D(32, (3, 3), activation='relu', input_shape=input_shape),\n",
    "        MaxPooling2D(pool_size=(2, 2)),\n",
    "        \n",
    "        # Second convolutional layer\n",
    "        Conv2D(64, (3, 3), activation='relu'),\n",
    "        MaxPooling2D(pool_size=(2, 2)),\n",
    "        \n",
    "        # Flatten the 2D feature maps\n",
    "        Flatten(),\n",
    "                # Fully connected layers\n",
    "        Dense(128, activation='relu'),\n",
    "        Dropout(0.5),  # Prevent overfitting\n",
    "        \n",
    "        # Output layer for 3 age groups\n",
    "        Dense(3, activation='softmax')\n",
    "    ])\n",
    "    \n",
    "    # Compile the model\n",
    "    model.compile(\n",
    "        optimizer='adam', \n",
    "        loss='sparse_categorical_crossentropy', \n",
    "        metrics=['accuracy']\n",
    "    )\n",
    "    \n",
    "    return model\n",
    "\n",
    "# Split the data into training and validation sets\n",
    "X_train, X_val, y_train, y_val = train_test_split(X_train, y_train, test_size=0.2, random_state=42, stratify=y_train)\n",
    "\n",
    "# Prepare data augmentation to improve model generalization\n",
    "train_datagen = ImageDataGenerator(\n",
    "    rotation_range=20,\n",
    "    width_shift_range=0.2,\n",
    "    height_shift_range=0.2,\n",
    "    horizontal_flip=True\n",
    ")\n",
    "\n",
    "val_datagen = ImageDataGenerator()  # No augmentation for validation data\n",
    "\n",
    "# Create the model\n",
    "input_shape = (X_train.shape[1], X_train.shape[2], X_train.shape[3])\n",
    "model = create_age_classification_model(input_shape)\n",
    "\n",
    "# Train the model\n",
    "history = model.fit(\n",
    "    train_datagen.flow(X_train, y_train, batch_size=32),\n",
    "    validation_data=val_datagen.flow(X_val, y_val, batch_size=32),\n",
    "    epochs=20\n",
    ") \n",
    "\n",
    "# Evaluate the model\n",
    "test_loss, test_accuracy = model.evaluate(X_test, y_test)\n",
    "print(f\"Test accuracy: {test_accuracy}\")"
   ]
  },
  {
   "cell_type": "markdown",
   "id": "d9d3603cc2782d97",
   "metadata": {},
   "source": [
    "#### Výsledky modelovania"
   ]
  },
  {
   "cell_type": "markdown",
   "id": "b63dd5fb2b96bc54",
   "metadata": {},
   "source": [
    "#### Trénovali sme model na 20 epochách, kde konečná presnosť dosiahla 71.19 %\n",
    "#### Model bol trénovaný aj na 10 epochách, kde konečná presnosť na testovacích dátach dosiahla 69.66 %\n",
    "\n",
    "#### viac sme už netestovali, pretože by nastal overfitting"
   ]
  },
  {
   "cell_type": "code",
   "execution_count": 19,
   "id": "86d064c82f638edf",
   "metadata": {
    "ExecuteTime": {
     "end_time": "2024-12-08T22:32:10.674269Z",
     "start_time": "2024-12-08T22:32:09.135695Z"
    }
   },
   "outputs": [
    {
     "name": "stdout",
     "output_type": "stream",
     "text": [
      "125/125 [==============================] - 1s 10ms/step\n"
     ]
    },
    {
     "data": {
      "image/png": "[encoded data removed]",
      "text/plain": [
       "<Figure size 1000x700 with 2 Axes>"
      ]
     },
     "metadata": {},
     "output_type": "display_data"
    }
   ],
   "source": [
    "y_pred = model.predict(X_test)\n",
    "y_pred_classes = np.argmax(y_pred, axis=1)\n",
    "\n",
    "cm = confusion_matrix(y_test, y_pred_classes)\n",
    "plt.figure(figsize=(10, 7))\n",
    "sns.heatmap(cm, annot=True, fmt='d', cmap='Blues', \n",
    "            xticklabels=['MIDDLE', 'OLD', 'YOUNG'], \n",
    "            yticklabels=['MIDDLE', 'OLD', 'YOUNG'])\n",
    "plt.title('Confusion Matrix')\n",
    "plt.xlabel('Predicted')\n",
    "plt.ylabel('Actual')\n",
    "plt.tight_layout()\n",
    "plt.show()"
   ]
  },
  {
   "cell_type": "markdown",
   "id": "e6504a0b8edec1e8",
   "metadata": {},
   "source": [
    "#### Confusion Matrix ukázal, že trieda OLD bola najčastejšie nesprávne klasifikovaná, čo pravdepodobne súvisí s jej malou reprezentáciou v dátach."
   ]
  },
  {
   "cell_type": "code",
   "execution_count": 20,
   "id": "138d8fcd1170e063",
   "metadata": {
    "ExecuteTime": {
     "end_time": "2024-12-08T22:32:14.189886Z",
     "start_time": "2024-12-08T22:32:13.965820Z"
    }
   },
   "outputs": [
    {
     "data": {
      "image/png": "[encoded data removed]",
      "text/plain": [
       "<Figure size 1200x400 with 2 Axes>"
      ]
     },
     "metadata": {},
     "output_type": "display_data"
    }
   ],
   "source": [
    "# Learning curves\n",
    "plt.figure(figsize=(12, 4))\n",
    "\n",
    "# Training and Validation Accuracy\n",
    "plt.subplot(1, 2, 1)\n",
    "plt.plot(history.history['accuracy'], label='Training Accuracy')\n",
    "plt.plot(history.history['val_accuracy'], label='Validation Accuracy')\n",
    "plt.title('Model Accuracy')\n",
    "plt.xlabel('Epoch')\n",
    "plt.ylabel('Accuracy')\n",
    "plt.legend()\n",
    "\n",
    "# Training and Validation Loss\n",
    "plt.subplot(1, 2, 2)\n",
    "plt.plot(history.history['loss'], label='Training Loss')\n",
    "plt.plot(history.history['val_loss'], label='Validation Loss')\n",
    "plt.title('Model Loss')\n",
    "plt.xlabel('Epoch')\n",
    "plt.ylabel('Loss')\n",
    "plt.legend()\n",
    "\n",
    "plt.tight_layout()\n",
    "plt.show()"
   ]
  },
  {
   "cell_type": "markdown",
   "id": "c7b05ebe8a15ceb4",
   "metadata": {},
   "source": [
    "#### Neidentifikovali sme žiadne výrazné rozdiely medzi tréningovou a validačnou presnosťou/stratou, čiže sa model učí vzory bez pretrénovania"
   ]
  },
  {
   "cell_type": "code",
   "execution_count": 18,
   "id": "2a5dfa8d98388091",
   "metadata": {
    "ExecuteTime": {
     "end_time": "2024-12-08T22:28:07.909189Z",
     "start_time": "2024-12-08T22:28:07.895183Z"
    }
   },
   "outputs": [
    {
     "name": "stdout",
     "output_type": "stream",
     "text": [
      "              precision    recall  f1-score   support\n",
      "\n",
      "      MIDDLE       0.70      0.88      0.78      2161\n",
      "         OLD       0.78      0.09      0.16       479\n",
      "       YOUNG       0.73      0.66      0.70      1342\n",
      "\n",
      "    accuracy                           0.71      3982\n",
      "   macro avg       0.74      0.54      0.54      3982\n",
      "weighted avg       0.72      0.71      0.68      3982\n",
      "\n"
     ]
    }
   ],
   "source": [
    "print(classification_report(y_test, y_pred_classes, target_names=['MIDDLE', 'OLD', 'YOUNG']))"
   ]
  },
  {
   "cell_type": "markdown",
   "id": "78d9ef4df8b464a5",
   "metadata": {},
   "source": [
    "### CNN model sa ukázal ako optimálny pre klasifikáciu obrázkov aj pre tento prípad."
   ]
  },
  {
   "cell_type": "markdown",
   "id": "d183a1625a74c4ff",
   "metadata": {},
   "source": [
    "50/50"
   ]
  }
 ],
 "metadata": {
  "kernelspec": {
   "display_name": "Python 3 (ipykernel)",
   "language": "python",
   "name": "python3"
  },
  "language_info": {
   "codemirror_mode": {
    "name": "ipython",
    "version": 3
   },
   "file_extension": ".py",
   "mimetype": "text/x-python",
   "name": "python",
   "nbconvert_exporter": "python",
   "pygments_lexer": "ipython3",
   "version": "3.12.6"
  }
 },
 "nbformat": 4,
 "nbformat_minor": 5
}
