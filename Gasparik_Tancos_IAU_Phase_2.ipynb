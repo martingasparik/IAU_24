{
 "cells": [
  {
   "cell_type": "code",
   "execution_count": 4,
   "id": "initial_id",
   "metadata": {
    "ExecuteTime": {
     "end_time": "2024-11-03T22:05:22.430721Z",
     "start_time": "2024-11-03T22:05:22.412468Z"
    }
   },
   "outputs": [],
   "source": [
    "# -*- coding: utf-8 -*-\n",
    "#\n",
    "# Licensed under the Apache License, Version 2.0 (the \"License\");\n",
    "# you may not use this file except in compliance with the License.\n",
    "# You may obtain a copy of the License at\n",
    "#\n",
    "# http://www.apache.org/licenses/LICENSE-2.0\n",
    "#\n",
    "# Unless required by applicable law or agreed to in writing, software\n",
    "# distributed under the License is distributed on an \"AS IS\" BASIS,\n",
    "# WITHOUT WARRANTIES OR CONDITIONS OF ANY KIND, either express or\n",
    "# implied.\n",
    "# See the License for the specific language governing permissions and\n",
    "# limitations under the License."
   ]
  },
  {
   "cell_type": "code",
   "execution_count": 5,
   "id": "1c4107b5a0b33d80",
   "metadata": {
    "ExecuteTime": {
     "end_time": "2024-11-03T22:05:22.664973Z",
     "start_time": "2024-11-03T22:05:22.650972Z"
    }
   },
   "outputs": [],
   "source": [
    "import matplotlib.pyplot as plt\n",
    "import seaborn as sns\n",
    "import pandas as pd\n",
    "import numpy as np\n",
    "import scipy.stats as stats\n",
    "\n",
    "from sklearn.model_selection import train_test_split\n",
    "from sklearn.preprocessing import StandardScaler\n",
    "\n",
    "from sklearn.svm import SVR\n",
    "from sklearn.feature_selection import RFE\n",
    "\n",
    "from sklearn.feature_selection import mutual_info_regression\n"
   ]
  },
  {
   "cell_type": "markdown",
   "id": "45bbb053c9bae402",
   "metadata": {},
   "source": [
    "# Fáza 2 - Predspracovanie údajov"
   ]
  },
  {
   "cell_type": "markdown",
   "id": "e18c52bf792ee494",
   "metadata": {},
   "source": [
    "## 2.1 Realizácia predspracovania dát"
   ]
  },
  {
   "cell_type": "markdown",
   "id": "75518738dde7a9b4",
   "metadata": {},
   "source": [
    "### A - Rozdelenia dát na trénovaciu a testovaciu množinu"
   ]
  },
  {
   "cell_type": "markdown",
   "id": "27f1812852d8a3fa",
   "metadata": {},
   "source": [
    "#### zlúčime potrebné dáta do jedného datasetu "
   ]
  },
  {
   "cell_type": "code",
   "execution_count": 6,
   "id": "3e107fbb9e838c7d",
   "metadata": {
    "ExecuteTime": {
     "end_time": "2024-11-03T22:05:22.759991Z",
     "start_time": "2024-11-03T22:05:22.697975Z"
    }
   },
   "outputs": [],
   "source": [
    "# loading datasets\n",
    "df_processes    = pd.read_csv(\"processes.csv\", sep='\\t')\n",
    "df_connections  = pd.read_csv(\"connections.csv\", sep='\\t')"
   ]
  },
  {
   "cell_type": "markdown",
   "id": "9cf8d0b876e60254",
   "metadata": {},
   "source": [
    "#### vyberieme si dáta, ktoré sme identifikovali v EDA"
   ]
  },
  {
   "cell_type": "code",
   "execution_count": 7,
   "id": "22eebc52440595f4",
   "metadata": {
    "ExecuteTime": {
     "end_time": "2024-11-03T22:05:22.774964Z",
     "start_time": "2024-11-03T22:05:22.760972Z"
    }
   },
   "outputs": [],
   "source": [
    "df_processes    = df_processes[[\"imei\", \"ts\", \"mwra\", \"p.android.gm\", \"p.android.documentsui\", \"p.system\", \"p.android.externalstorage\", \"p.android.settings\", \"p.android.chrome\"]]\n",
    "df_connections  = df_connections[[\"imei\", \"ts\", \"mwra\", \"c.katana\", \"c.dogalize\", \"c.android.chrome\", \"c.android.gm\"]]"
   ]
  },
  {
   "cell_type": "markdown",
   "id": "1462d1d95f6cca57",
   "metadata": {},
   "source": [
    "#### spojíme ich pomocou \"ts\" a \"imei\""
   ]
  },
  {
   "cell_type": "code",
   "execution_count": 8,
   "id": "98dc0f41b43eeabd",
   "metadata": {
    "ExecuteTime": {
     "end_time": "2024-11-03T22:05:22.790954Z",
     "start_time": "2024-11-03T22:05:22.776968Z"
    }
   },
   "outputs": [],
   "source": [
    "df = df_connections.merge(df_processes, on=['imei', 'ts'], how='outer')"
   ]
  },
  {
   "cell_type": "markdown",
   "id": "798b53c00b1d578d",
   "metadata": {},
   "source": [
    "#### Rozdelíme dáta v pomere 80:20 (trénovacia/testovacia množina). Tento pomer vychádza z predpokladu, že pri dostatočne veľkom množstve dát, máme pri rozdelení dostatok dát na trénovanie a efektívne učenie modelu, zatiaľ čo testovacia množina bude dostatočne veľká pre overenie modelu. Tento pomer je bežný a vhodný pre väčšinu úloh strojového učenia."
   ]
  },
  {
   "cell_type": "code",
   "execution_count": 9,
   "id": "5104e4369522cbf2",
   "metadata": {
    "ExecuteTime": {
     "end_time": "2024-11-03T22:05:22.854578Z",
     "start_time": "2024-11-03T22:05:22.840960Z"
    }
   },
   "outputs": [
    {
     "data": {
      "text/html": [
       "<div>\n",
       "<style scoped>\n",
       "    .dataframe tbody tr th:only-of-type {\n",
       "        vertical-align: middle;\n",
       "    }\n",
       "\n",
       "    .dataframe tbody tr th {\n",
       "        vertical-align: top;\n",
       "    }\n",
       "\n",
       "    .dataframe thead th {\n",
       "        text-align: right;\n",
       "    }\n",
       "</style>\n",
       "<table border=\"1\" class=\"dataframe\">\n",
       "  <thead>\n",
       "    <tr style=\"text-align: right;\">\n",
       "      <th></th>\n",
       "      <th>imei</th>\n",
       "      <th>ts</th>\n",
       "      <th>mwra_x</th>\n",
       "      <th>c.katana</th>\n",
       "      <th>c.dogalize</th>\n",
       "      <th>c.android.chrome</th>\n",
       "      <th>c.android.gm</th>\n",
       "      <th>mwra_y</th>\n",
       "      <th>p.android.gm</th>\n",
       "      <th>p.android.documentsui</th>\n",
       "      <th>p.system</th>\n",
       "      <th>p.android.externalstorage</th>\n",
       "      <th>p.android.settings</th>\n",
       "      <th>p.android.chrome</th>\n",
       "    </tr>\n",
       "  </thead>\n",
       "  <tbody>\n",
       "    <tr>\n",
       "      <th>4229</th>\n",
       "      <td>863033069630348354</td>\n",
       "      <td>2018-05-07 06:23:00</td>\n",
       "      <td>1.0</td>\n",
       "      <td>8.78526</td>\n",
       "      <td>12.97475</td>\n",
       "      <td>11.62351</td>\n",
       "      <td>14.41864</td>\n",
       "      <td>1.0</td>\n",
       "      <td>9.23972</td>\n",
       "      <td>10.43492</td>\n",
       "      <td>13.82551</td>\n",
       "      <td>9.86109</td>\n",
       "      <td>8.95921</td>\n",
       "      <td>11.39909</td>\n",
       "    </tr>\n",
       "    <tr>\n",
       "      <th>12572</th>\n",
       "      <td>8630330696303481545</td>\n",
       "      <td>2018-05-11 14:57:00</td>\n",
       "      <td>1.0</td>\n",
       "      <td>11.81607</td>\n",
       "      <td>14.66263</td>\n",
       "      <td>10.73155</td>\n",
       "      <td>14.21554</td>\n",
       "      <td>1.0</td>\n",
       "      <td>10.37842</td>\n",
       "      <td>10.42450</td>\n",
       "      <td>14.23429</td>\n",
       "      <td>14.15057</td>\n",
       "      <td>9.07541</td>\n",
       "      <td>11.87810</td>\n",
       "    </tr>\n",
       "    <tr>\n",
       "      <th>12930</th>\n",
       "      <td>8630330696303481669</td>\n",
       "      <td>2018-05-06 20:06:00</td>\n",
       "      <td>0.0</td>\n",
       "      <td>12.49268</td>\n",
       "      <td>13.38094</td>\n",
       "      <td>10.93373</td>\n",
       "      <td>14.18849</td>\n",
       "      <td>0.0</td>\n",
       "      <td>11.95766</td>\n",
       "      <td>6.47040</td>\n",
       "      <td>12.71239</td>\n",
       "      <td>9.86456</td>\n",
       "      <td>7.39561</td>\n",
       "      <td>10.22850</td>\n",
       "    </tr>\n",
       "    <tr>\n",
       "      <th>14497</th>\n",
       "      <td>8630330696303482196</td>\n",
       "      <td>2018-05-10 16:15:00</td>\n",
       "      <td>1.0</td>\n",
       "      <td>12.27976</td>\n",
       "      <td>13.40483</td>\n",
       "      <td>9.23485</td>\n",
       "      <td>15.58463</td>\n",
       "      <td>1.0</td>\n",
       "      <td>8.52524</td>\n",
       "      <td>13.52572</td>\n",
       "      <td>13.66325</td>\n",
       "      <td>10.38706</td>\n",
       "      <td>9.61267</td>\n",
       "      <td>9.97641</td>\n",
       "    </tr>\n",
       "    <tr>\n",
       "      <th>1347</th>\n",
       "      <td>359043379931766437</td>\n",
       "      <td>2018-05-14 23:22:00</td>\n",
       "      <td>0.0</td>\n",
       "      <td>13.17060</td>\n",
       "      <td>14.34610</td>\n",
       "      <td>9.63767</td>\n",
       "      <td>6.44279</td>\n",
       "      <td>0.0</td>\n",
       "      <td>12.37160</td>\n",
       "      <td>12.12072</td>\n",
       "      <td>13.74927</td>\n",
       "      <td>11.34104</td>\n",
       "      <td>9.44807</td>\n",
       "      <td>5.71597</td>\n",
       "    </tr>\n",
       "  </tbody>\n",
       "</table>\n",
       "</div>"
      ],
      "text/plain": [
       "                      imei                   ts  mwra_x  c.katana  c.dogalize  \\\n",
       "4229    863033069630348354  2018-05-07 06:23:00     1.0   8.78526    12.97475   \n",
       "12572  8630330696303481545  2018-05-11 14:57:00     1.0  11.81607    14.66263   \n",
       "12930  8630330696303481669  2018-05-06 20:06:00     0.0  12.49268    13.38094   \n",
       "14497  8630330696303482196  2018-05-10 16:15:00     1.0  12.27976    13.40483   \n",
       "1347    359043379931766437  2018-05-14 23:22:00     0.0  13.17060    14.34610   \n",
       "\n",
       "       c.android.chrome  c.android.gm  mwra_y  p.android.gm  \\\n",
       "4229           11.62351      14.41864     1.0       9.23972   \n",
       "12572          10.73155      14.21554     1.0      10.37842   \n",
       "12930          10.93373      14.18849     0.0      11.95766   \n",
       "14497           9.23485      15.58463     1.0       8.52524   \n",
       "1347            9.63767       6.44279     0.0      12.37160   \n",
       "\n",
       "       p.android.documentsui  p.system  p.android.externalstorage  \\\n",
       "4229                10.43492  13.82551                    9.86109   \n",
       "12572               10.42450  14.23429                   14.15057   \n",
       "12930                6.47040  12.71239                    9.86456   \n",
       "14497               13.52572  13.66325                   10.38706   \n",
       "1347                12.12072  13.74927                   11.34104   \n",
       "\n",
       "       p.android.settings  p.android.chrome  \n",
       "4229              8.95921          11.39909  \n",
       "12572             9.07541          11.87810  \n",
       "12930             7.39561          10.22850  \n",
       "14497             9.61267           9.97641  \n",
       "1347              9.44807           5.71597  "
      ]
     },
     "execution_count": 9,
     "metadata": {},
     "output_type": "execute_result"
    }
   ],
   "source": [
    "TRAIN = 0.8\n",
    "\n",
    "train_df, test_df = train_test_split(df, train_size=TRAIN, random_state=42)\n",
    "\n",
    "train_df.head()"
   ]
  },
  {
   "cell_type": "markdown",
   "id": "b313c1748c99b23c",
   "metadata": {},
   "source": [
    "#### ďalej pracujeme s trénovacím datasetom"
   ]
  },
  {
   "cell_type": "markdown",
   "id": "dd0ea680b9461d49",
   "metadata": {},
   "source": [
    "### B - Transformujeme dáta na vhodný formát pre ML"
   ]
  },
  {
   "cell_type": "code",
   "execution_count": 10,
   "id": "8a786088b8fd5517",
   "metadata": {
    "ExecuteTime": {
     "end_time": "2024-11-03T22:05:22.917639Z",
     "start_time": "2024-11-03T22:05:22.891638Z"
    }
   },
   "outputs": [
    {
     "name": "stdout",
     "output_type": "stream",
     "text": [
      "Shape: 12331 rows, 14 columns\n",
      "Duplicates: 378\n"
     ]
    },
    {
     "data": {
      "text/html": [
       "<div>\n",
       "<style scoped>\n",
       "    .dataframe tbody tr th:only-of-type {\n",
       "        vertical-align: middle;\n",
       "    }\n",
       "\n",
       "    .dataframe tbody tr th {\n",
       "        vertical-align: top;\n",
       "    }\n",
       "\n",
       "    .dataframe thead th {\n",
       "        text-align: right;\n",
       "    }\n",
       "</style>\n",
       "<table border=\"1\" class=\"dataframe\">\n",
       "  <thead>\n",
       "    <tr style=\"text-align: right;\">\n",
       "      <th></th>\n",
       "      <th>Missing Values</th>\n",
       "      <th>Data Type</th>\n",
       "    </tr>\n",
       "  </thead>\n",
       "  <tbody>\n",
       "    <tr>\n",
       "      <th>imei</th>\n",
       "      <td>0</td>\n",
       "      <td>int64</td>\n",
       "    </tr>\n",
       "    <tr>\n",
       "      <th>ts</th>\n",
       "      <td>0</td>\n",
       "      <td>object</td>\n",
       "    </tr>\n",
       "    <tr>\n",
       "      <th>mwra_x</th>\n",
       "      <td>0</td>\n",
       "      <td>float64</td>\n",
       "    </tr>\n",
       "    <tr>\n",
       "      <th>c.katana</th>\n",
       "      <td>0</td>\n",
       "      <td>float64</td>\n",
       "    </tr>\n",
       "    <tr>\n",
       "      <th>c.dogalize</th>\n",
       "      <td>0</td>\n",
       "      <td>float64</td>\n",
       "    </tr>\n",
       "    <tr>\n",
       "      <th>c.android.chrome</th>\n",
       "      <td>0</td>\n",
       "      <td>float64</td>\n",
       "    </tr>\n",
       "    <tr>\n",
       "      <th>c.android.gm</th>\n",
       "      <td>0</td>\n",
       "      <td>float64</td>\n",
       "    </tr>\n",
       "    <tr>\n",
       "      <th>mwra_y</th>\n",
       "      <td>0</td>\n",
       "      <td>float64</td>\n",
       "    </tr>\n",
       "    <tr>\n",
       "      <th>p.android.gm</th>\n",
       "      <td>0</td>\n",
       "      <td>float64</td>\n",
       "    </tr>\n",
       "    <tr>\n",
       "      <th>p.android.documentsui</th>\n",
       "      <td>0</td>\n",
       "      <td>float64</td>\n",
       "    </tr>\n",
       "    <tr>\n",
       "      <th>p.system</th>\n",
       "      <td>0</td>\n",
       "      <td>float64</td>\n",
       "    </tr>\n",
       "    <tr>\n",
       "      <th>p.android.externalstorage</th>\n",
       "      <td>0</td>\n",
       "      <td>float64</td>\n",
       "    </tr>\n",
       "    <tr>\n",
       "      <th>p.android.settings</th>\n",
       "      <td>0</td>\n",
       "      <td>float64</td>\n",
       "    </tr>\n",
       "    <tr>\n",
       "      <th>p.android.chrome</th>\n",
       "      <td>0</td>\n",
       "      <td>float64</td>\n",
       "    </tr>\n",
       "  </tbody>\n",
       "</table>\n",
       "</div>"
      ],
      "text/plain": [
       "                           Missing Values Data Type\n",
       "imei                                    0     int64\n",
       "ts                                      0    object\n",
       "mwra_x                                  0   float64\n",
       "c.katana                                0   float64\n",
       "c.dogalize                              0   float64\n",
       "c.android.chrome                        0   float64\n",
       "c.android.gm                            0   float64\n",
       "mwra_y                                  0   float64\n",
       "p.android.gm                            0   float64\n",
       "p.android.documentsui                   0   float64\n",
       "p.system                                0   float64\n",
       "p.android.externalstorage               0   float64\n",
       "p.android.settings                      0   float64\n",
       "p.android.chrome                        0   float64"
      ]
     },
     "metadata": {},
     "output_type": "display_data"
    }
   ],
   "source": [
    "# better info()\n",
    "def analyze_dataframe(the_df):\n",
    "    table = pd.DataFrame({\n",
    "        'Missing Values': the_df.isnull().sum(),\n",
    "        'Data Type': the_df.dtypes\n",
    "    })\n",
    "\n",
    "    rows, columns = the_df.shape\n",
    "    duplicates = the_df.duplicated().sum()\n",
    "\n",
    "    print(f\"Shape: {rows} rows, {columns} columns\")\n",
    "    print(f\"Duplicates: {duplicates}\")\n",
    "\n",
    "    display(table)\n",
    "    \n",
    "analyze_dataframe(train_df)"
   ]
  },
  {
   "cell_type": "code",
   "execution_count": 11,
   "id": "685a335b2c5b7366",
   "metadata": {
    "ExecuteTime": {
     "end_time": "2024-11-03T22:05:22.948666Z",
     "start_time": "2024-11-03T22:05:22.936693Z"
    }
   },
   "outputs": [
    {
     "name": "stdout",
     "output_type": "stream",
     "text": [
      "Matched: 12331, Not matched: 0\n"
     ]
    }
   ],
   "source": [
    "matches = (train_df['mwra_x'] == train_df['mwra_y']).sum()\n",
    "not_matches = len(train_df) - matches\n",
    "\n",
    "print(f\"Matched: {matches}, Not matched: {not_matches}\")"
   ]
  },
  {
   "cell_type": "markdown",
   "id": "73cf9b7fc4c67895",
   "metadata": {},
   "source": [
    "#### môžeme vymazať dáta, pomocou ktorých sme spájali datasety do jedného, t.j. nepotrebné stĺpce: ts, mrwa_y + premenujeme mwra_x na mwra"
   ]
  },
  {
   "cell_type": "code",
   "execution_count": 12,
   "id": "517e0120f5e35379",
   "metadata": {
    "ExecuteTime": {
     "end_time": "2024-11-03T22:05:22.994369Z",
     "start_time": "2024-11-03T22:05:22.969342Z"
    }
   },
   "outputs": [
    {
     "data": {
      "text/html": [
       "<div>\n",
       "<style scoped>\n",
       "    .dataframe tbody tr th:only-of-type {\n",
       "        vertical-align: middle;\n",
       "    }\n",
       "\n",
       "    .dataframe tbody tr th {\n",
       "        vertical-align: top;\n",
       "    }\n",
       "\n",
       "    .dataframe thead th {\n",
       "        text-align: right;\n",
       "    }\n",
       "</style>\n",
       "<table border=\"1\" class=\"dataframe\">\n",
       "  <thead>\n",
       "    <tr style=\"text-align: right;\">\n",
       "      <th></th>\n",
       "      <th>imei</th>\n",
       "      <th>mwra</th>\n",
       "      <th>c.katana</th>\n",
       "      <th>c.dogalize</th>\n",
       "      <th>c.android.chrome</th>\n",
       "      <th>c.android.gm</th>\n",
       "      <th>p.android.gm</th>\n",
       "      <th>p.android.documentsui</th>\n",
       "      <th>p.system</th>\n",
       "      <th>p.android.externalstorage</th>\n",
       "      <th>p.android.settings</th>\n",
       "      <th>p.android.chrome</th>\n",
       "    </tr>\n",
       "  </thead>\n",
       "  <tbody>\n",
       "    <tr>\n",
       "      <th>4229</th>\n",
       "      <td>863033069630348354</td>\n",
       "      <td>1.0</td>\n",
       "      <td>8.78526</td>\n",
       "      <td>12.97475</td>\n",
       "      <td>11.62351</td>\n",
       "      <td>14.41864</td>\n",
       "      <td>9.23972</td>\n",
       "      <td>10.43492</td>\n",
       "      <td>13.82551</td>\n",
       "      <td>9.86109</td>\n",
       "      <td>8.95921</td>\n",
       "      <td>11.39909</td>\n",
       "    </tr>\n",
       "    <tr>\n",
       "      <th>12572</th>\n",
       "      <td>8630330696303481545</td>\n",
       "      <td>1.0</td>\n",
       "      <td>11.81607</td>\n",
       "      <td>14.66263</td>\n",
       "      <td>10.73155</td>\n",
       "      <td>14.21554</td>\n",
       "      <td>10.37842</td>\n",
       "      <td>10.42450</td>\n",
       "      <td>14.23429</td>\n",
       "      <td>14.15057</td>\n",
       "      <td>9.07541</td>\n",
       "      <td>11.87810</td>\n",
       "    </tr>\n",
       "    <tr>\n",
       "      <th>12930</th>\n",
       "      <td>8630330696303481669</td>\n",
       "      <td>0.0</td>\n",
       "      <td>12.49268</td>\n",
       "      <td>13.38094</td>\n",
       "      <td>10.93373</td>\n",
       "      <td>14.18849</td>\n",
       "      <td>11.95766</td>\n",
       "      <td>6.47040</td>\n",
       "      <td>12.71239</td>\n",
       "      <td>9.86456</td>\n",
       "      <td>7.39561</td>\n",
       "      <td>10.22850</td>\n",
       "    </tr>\n",
       "    <tr>\n",
       "      <th>14497</th>\n",
       "      <td>8630330696303482196</td>\n",
       "      <td>1.0</td>\n",
       "      <td>12.27976</td>\n",
       "      <td>13.40483</td>\n",
       "      <td>9.23485</td>\n",
       "      <td>15.58463</td>\n",
       "      <td>8.52524</td>\n",
       "      <td>13.52572</td>\n",
       "      <td>13.66325</td>\n",
       "      <td>10.38706</td>\n",
       "      <td>9.61267</td>\n",
       "      <td>9.97641</td>\n",
       "    </tr>\n",
       "    <tr>\n",
       "      <th>1347</th>\n",
       "      <td>359043379931766437</td>\n",
       "      <td>0.0</td>\n",
       "      <td>13.17060</td>\n",
       "      <td>14.34610</td>\n",
       "      <td>9.63767</td>\n",
       "      <td>6.44279</td>\n",
       "      <td>12.37160</td>\n",
       "      <td>12.12072</td>\n",
       "      <td>13.74927</td>\n",
       "      <td>11.34104</td>\n",
       "      <td>9.44807</td>\n",
       "      <td>5.71597</td>\n",
       "    </tr>\n",
       "  </tbody>\n",
       "</table>\n",
       "</div>"
      ],
      "text/plain": [
       "                      imei  mwra  c.katana  c.dogalize  c.android.chrome  \\\n",
       "4229    863033069630348354   1.0   8.78526    12.97475          11.62351   \n",
       "12572  8630330696303481545   1.0  11.81607    14.66263          10.73155   \n",
       "12930  8630330696303481669   0.0  12.49268    13.38094          10.93373   \n",
       "14497  8630330696303482196   1.0  12.27976    13.40483           9.23485   \n",
       "1347    359043379931766437   0.0  13.17060    14.34610           9.63767   \n",
       "\n",
       "       c.android.gm  p.android.gm  p.android.documentsui  p.system  \\\n",
       "4229       14.41864       9.23972               10.43492  13.82551   \n",
       "12572      14.21554      10.37842               10.42450  14.23429   \n",
       "12930      14.18849      11.95766                6.47040  12.71239   \n",
       "14497      15.58463       8.52524               13.52572  13.66325   \n",
       "1347        6.44279      12.37160               12.12072  13.74927   \n",
       "\n",
       "       p.android.externalstorage  p.android.settings  p.android.chrome  \n",
       "4229                     9.86109             8.95921          11.39909  \n",
       "12572                   14.15057             9.07541          11.87810  \n",
       "12930                    9.86456             7.39561          10.22850  \n",
       "14497                   10.38706             9.61267           9.97641  \n",
       "1347                    11.34104             9.44807           5.71597  "
      ]
     },
     "execution_count": 12,
     "metadata": {},
     "output_type": "execute_result"
    }
   ],
   "source": [
    "train_df = train_df.drop(columns=['ts', 'mwra_y'], errors='ignore')\n",
    "train_df = train_df.rename(columns={'mwra_x': 'mwra'})\n",
    "\n",
    "train_df.head()"
   ]
  },
  {
   "cell_type": "code",
   "execution_count": 13,
   "id": "f8529fa15c1b36ee",
   "metadata": {
    "ExecuteTime": {
     "end_time": "2024-11-03T22:05:23.103622Z",
     "start_time": "2024-11-03T22:05:23.079632Z"
    }
   },
   "outputs": [
    {
     "data": {
      "text/html": [
       "<div>\n",
       "<style scoped>\n",
       "    .dataframe tbody tr th:only-of-type {\n",
       "        vertical-align: middle;\n",
       "    }\n",
       "\n",
       "    .dataframe tbody tr th {\n",
       "        vertical-align: top;\n",
       "    }\n",
       "\n",
       "    .dataframe thead th {\n",
       "        text-align: right;\n",
       "    }\n",
       "</style>\n",
       "<table border=\"1\" class=\"dataframe\">\n",
       "  <thead>\n",
       "    <tr style=\"text-align: right;\">\n",
       "      <th></th>\n",
       "      <th>imei</th>\n",
       "      <th>mwra</th>\n",
       "      <th>c.katana</th>\n",
       "      <th>c.dogalize</th>\n",
       "      <th>c.android.chrome</th>\n",
       "      <th>c.android.gm</th>\n",
       "      <th>p.android.gm</th>\n",
       "      <th>p.android.documentsui</th>\n",
       "      <th>p.system</th>\n",
       "      <th>p.android.externalstorage</th>\n",
       "      <th>p.android.settings</th>\n",
       "      <th>p.android.chrome</th>\n",
       "    </tr>\n",
       "  </thead>\n",
       "  <tbody>\n",
       "    <tr>\n",
       "      <th>count</th>\n",
       "      <td>1.233100e+04</td>\n",
       "      <td>12331.000000</td>\n",
       "      <td>12331.000000</td>\n",
       "      <td>12331.000000</td>\n",
       "      <td>12331.000000</td>\n",
       "      <td>12331.000000</td>\n",
       "      <td>12331.000000</td>\n",
       "      <td>12331.000000</td>\n",
       "      <td>12331.000000</td>\n",
       "      <td>12331.000000</td>\n",
       "      <td>12331.000000</td>\n",
       "      <td>12331.000000</td>\n",
       "    </tr>\n",
       "    <tr>\n",
       "      <th>mean</th>\n",
       "      <td>3.879585e+18</td>\n",
       "      <td>0.625497</td>\n",
       "      <td>10.016101</td>\n",
       "      <td>11.181063</td>\n",
       "      <td>11.023363</td>\n",
       "      <td>10.554946</td>\n",
       "      <td>9.983216</td>\n",
       "      <td>9.391937</td>\n",
       "      <td>11.163586</td>\n",
       "      <td>11.713024</td>\n",
       "      <td>9.893613</td>\n",
       "      <td>9.894593</td>\n",
       "    </tr>\n",
       "    <tr>\n",
       "      <th>std</th>\n",
       "      <td>3.327328e+18</td>\n",
       "      <td>0.484014</td>\n",
       "      <td>2.575195</td>\n",
       "      <td>2.654335</td>\n",
       "      <td>2.710526</td>\n",
       "      <td>2.719858</td>\n",
       "      <td>2.763540</td>\n",
       "      <td>2.365531</td>\n",
       "      <td>2.310111</td>\n",
       "      <td>2.393699</td>\n",
       "      <td>2.484082</td>\n",
       "      <td>2.569458</td>\n",
       "    </tr>\n",
       "    <tr>\n",
       "      <th>min</th>\n",
       "      <td>3.590434e+17</td>\n",
       "      <td>0.000000</td>\n",
       "      <td>1.384790</td>\n",
       "      <td>1.802460</td>\n",
       "      <td>1.264880</td>\n",
       "      <td>1.730240</td>\n",
       "      <td>0.000000</td>\n",
       "      <td>2.551400</td>\n",
       "      <td>3.050450</td>\n",
       "      <td>3.463510</td>\n",
       "      <td>2.010490</td>\n",
       "      <td>0.879270</td>\n",
       "    </tr>\n",
       "    <tr>\n",
       "      <th>25%</th>\n",
       "      <td>8.630331e+17</td>\n",
       "      <td>0.000000</td>\n",
       "      <td>8.142165</td>\n",
       "      <td>9.318645</td>\n",
       "      <td>9.125685</td>\n",
       "      <td>8.564910</td>\n",
       "      <td>8.058725</td>\n",
       "      <td>7.785910</td>\n",
       "      <td>9.436415</td>\n",
       "      <td>10.088205</td>\n",
       "      <td>8.058810</td>\n",
       "      <td>8.041820</td>\n",
       "    </tr>\n",
       "    <tr>\n",
       "      <th>50%</th>\n",
       "      <td>3.590434e+18</td>\n",
       "      <td>1.000000</td>\n",
       "      <td>9.860910</td>\n",
       "      <td>11.288090</td>\n",
       "      <td>11.078720</td>\n",
       "      <td>10.437770</td>\n",
       "      <td>9.873050</td>\n",
       "      <td>9.194260</td>\n",
       "      <td>11.329550</td>\n",
       "      <td>11.815800</td>\n",
       "      <td>9.817520</td>\n",
       "      <td>9.922110</td>\n",
       "    </tr>\n",
       "    <tr>\n",
       "      <th>75%</th>\n",
       "      <td>8.630331e+18</td>\n",
       "      <td>1.000000</td>\n",
       "      <td>11.811615</td>\n",
       "      <td>13.057150</td>\n",
       "      <td>12.950765</td>\n",
       "      <td>12.511710</td>\n",
       "      <td>11.911765</td>\n",
       "      <td>10.726015</td>\n",
       "      <td>12.900690</td>\n",
       "      <td>13.396400</td>\n",
       "      <td>11.804595</td>\n",
       "      <td>11.820470</td>\n",
       "    </tr>\n",
       "    <tr>\n",
       "      <th>max</th>\n",
       "      <td>8.630331e+18</td>\n",
       "      <td>1.000000</td>\n",
       "      <td>19.064650</td>\n",
       "      <td>21.522060</td>\n",
       "      <td>20.710650</td>\n",
       "      <td>20.883650</td>\n",
       "      <td>20.563610</td>\n",
       "      <td>20.220660</td>\n",
       "      <td>18.999150</td>\n",
       "      <td>20.060160</td>\n",
       "      <td>18.162090</td>\n",
       "      <td>17.910570</td>\n",
       "    </tr>\n",
       "  </tbody>\n",
       "</table>\n",
       "</div>"
      ],
      "text/plain": [
       "               imei          mwra      c.katana    c.dogalize  \\\n",
       "count  1.233100e+04  12331.000000  12331.000000  12331.000000   \n",
       "mean   3.879585e+18      0.625497     10.016101     11.181063   \n",
       "std    3.327328e+18      0.484014      2.575195      2.654335   \n",
       "min    3.590434e+17      0.000000      1.384790      1.802460   \n",
       "25%    8.630331e+17      0.000000      8.142165      9.318645   \n",
       "50%    3.590434e+18      1.000000      9.860910     11.288090   \n",
       "75%    8.630331e+18      1.000000     11.811615     13.057150   \n",
       "max    8.630331e+18      1.000000     19.064650     21.522060   \n",
       "\n",
       "       c.android.chrome  c.android.gm  p.android.gm  p.android.documentsui  \\\n",
       "count      12331.000000  12331.000000  12331.000000           12331.000000   \n",
       "mean          11.023363     10.554946      9.983216               9.391937   \n",
       "std            2.710526      2.719858      2.763540               2.365531   \n",
       "min            1.264880      1.730240      0.000000               2.551400   \n",
       "25%            9.125685      8.564910      8.058725               7.785910   \n",
       "50%           11.078720     10.437770      9.873050               9.194260   \n",
       "75%           12.950765     12.511710     11.911765              10.726015   \n",
       "max           20.710650     20.883650     20.563610              20.220660   \n",
       "\n",
       "           p.system  p.android.externalstorage  p.android.settings  \\\n",
       "count  12331.000000               12331.000000        12331.000000   \n",
       "mean      11.163586                  11.713024            9.893613   \n",
       "std        2.310111                   2.393699            2.484082   \n",
       "min        3.050450                   3.463510            2.010490   \n",
       "25%        9.436415                  10.088205            8.058810   \n",
       "50%       11.329550                  11.815800            9.817520   \n",
       "75%       12.900690                  13.396400           11.804595   \n",
       "max       18.999150                  20.060160           18.162090   \n",
       "\n",
       "       p.android.chrome  \n",
       "count      12331.000000  \n",
       "mean           9.894593  \n",
       "std            2.569458  \n",
       "min            0.879270  \n",
       "25%            8.041820  \n",
       "50%            9.922110  \n",
       "75%           11.820470  \n",
       "max           17.910570  "
      ]
     },
     "execution_count": 13,
     "metadata": {},
     "output_type": "execute_result"
    }
   ],
   "source": [
    "train_df.describe()"
   ]
  },
  {
   "cell_type": "code",
   "execution_count": 14,
   "id": "6014a7bb8eb22148",
   "metadata": {
    "ExecuteTime": {
     "end_time": "2024-11-03T22:05:23.165344Z",
     "start_time": "2024-11-03T22:05:23.133722Z"
    }
   },
   "outputs": [
    {
     "data": {
      "text/html": [
       "<div>\n",
       "<style scoped>\n",
       "    .dataframe tbody tr th:only-of-type {\n",
       "        vertical-align: middle;\n",
       "    }\n",
       "\n",
       "    .dataframe tbody tr th {\n",
       "        vertical-align: top;\n",
       "    }\n",
       "\n",
       "    .dataframe thead th {\n",
       "        text-align: right;\n",
       "    }\n",
       "</style>\n",
       "<table border=\"1\" class=\"dataframe\">\n",
       "  <thead>\n",
       "    <tr style=\"text-align: right;\">\n",
       "      <th></th>\n",
       "      <th>imei</th>\n",
       "      <th>mwra</th>\n",
       "      <th>c.katana</th>\n",
       "      <th>c.dogalize</th>\n",
       "      <th>c.android.chrome</th>\n",
       "      <th>c.android.gm</th>\n",
       "      <th>p.android.gm</th>\n",
       "      <th>p.android.documentsui</th>\n",
       "      <th>p.system</th>\n",
       "      <th>p.android.externalstorage</th>\n",
       "      <th>p.android.settings</th>\n",
       "      <th>p.android.chrome</th>\n",
       "    </tr>\n",
       "  </thead>\n",
       "  <tbody>\n",
       "    <tr>\n",
       "      <th>count</th>\n",
       "      <td>1.233100e+04</td>\n",
       "      <td>12331.000000</td>\n",
       "      <td>12331.000000</td>\n",
       "      <td>12331.000000</td>\n",
       "      <td>12331.000000</td>\n",
       "      <td>12331.000000</td>\n",
       "      <td>12331.000000</td>\n",
       "      <td>12331.000000</td>\n",
       "      <td>12331.000000</td>\n",
       "      <td>12331.000000</td>\n",
       "      <td>12331.000000</td>\n",
       "      <td>12331.000000</td>\n",
       "    </tr>\n",
       "    <tr>\n",
       "      <th>mean</th>\n",
       "      <td>3.879585e+18</td>\n",
       "      <td>0.625497</td>\n",
       "      <td>10.016101</td>\n",
       "      <td>11.181063</td>\n",
       "      <td>11.023363</td>\n",
       "      <td>10.554946</td>\n",
       "      <td>9.983216</td>\n",
       "      <td>9.391937</td>\n",
       "      <td>11.163586</td>\n",
       "      <td>11.713024</td>\n",
       "      <td>9.893613</td>\n",
       "      <td>9.894593</td>\n",
       "    </tr>\n",
       "    <tr>\n",
       "      <th>std</th>\n",
       "      <td>3.327328e+18</td>\n",
       "      <td>0.484014</td>\n",
       "      <td>2.575195</td>\n",
       "      <td>2.654335</td>\n",
       "      <td>2.710526</td>\n",
       "      <td>2.719858</td>\n",
       "      <td>2.763540</td>\n",
       "      <td>2.365531</td>\n",
       "      <td>2.310111</td>\n",
       "      <td>2.393699</td>\n",
       "      <td>2.484082</td>\n",
       "      <td>2.569458</td>\n",
       "    </tr>\n",
       "    <tr>\n",
       "      <th>min</th>\n",
       "      <td>3.590434e+17</td>\n",
       "      <td>0.000000</td>\n",
       "      <td>1.384790</td>\n",
       "      <td>1.802460</td>\n",
       "      <td>1.264880</td>\n",
       "      <td>1.730240</td>\n",
       "      <td>0.000000</td>\n",
       "      <td>2.551400</td>\n",
       "      <td>3.050450</td>\n",
       "      <td>3.463510</td>\n",
       "      <td>2.010490</td>\n",
       "      <td>0.879270</td>\n",
       "    </tr>\n",
       "    <tr>\n",
       "      <th>25%</th>\n",
       "      <td>8.630331e+17</td>\n",
       "      <td>0.000000</td>\n",
       "      <td>8.142165</td>\n",
       "      <td>9.318645</td>\n",
       "      <td>9.125685</td>\n",
       "      <td>8.564910</td>\n",
       "      <td>8.058725</td>\n",
       "      <td>7.785910</td>\n",
       "      <td>9.436415</td>\n",
       "      <td>10.088205</td>\n",
       "      <td>8.058810</td>\n",
       "      <td>8.041820</td>\n",
       "    </tr>\n",
       "    <tr>\n",
       "      <th>50%</th>\n",
       "      <td>3.590434e+18</td>\n",
       "      <td>1.000000</td>\n",
       "      <td>9.860910</td>\n",
       "      <td>11.288090</td>\n",
       "      <td>11.078720</td>\n",
       "      <td>10.437770</td>\n",
       "      <td>9.873050</td>\n",
       "      <td>9.194260</td>\n",
       "      <td>11.329550</td>\n",
       "      <td>11.815800</td>\n",
       "      <td>9.817520</td>\n",
       "      <td>9.922110</td>\n",
       "    </tr>\n",
       "    <tr>\n",
       "      <th>75%</th>\n",
       "      <td>8.630331e+18</td>\n",
       "      <td>1.000000</td>\n",
       "      <td>11.811615</td>\n",
       "      <td>13.057150</td>\n",
       "      <td>12.950765</td>\n",
       "      <td>12.511710</td>\n",
       "      <td>11.911765</td>\n",
       "      <td>10.726015</td>\n",
       "      <td>12.900690</td>\n",
       "      <td>13.396400</td>\n",
       "      <td>11.804595</td>\n",
       "      <td>11.820470</td>\n",
       "    </tr>\n",
       "    <tr>\n",
       "      <th>max</th>\n",
       "      <td>8.630331e+18</td>\n",
       "      <td>1.000000</td>\n",
       "      <td>19.064650</td>\n",
       "      <td>21.522060</td>\n",
       "      <td>20.710650</td>\n",
       "      <td>20.883650</td>\n",
       "      <td>20.563610</td>\n",
       "      <td>20.220660</td>\n",
       "      <td>18.999150</td>\n",
       "      <td>20.060160</td>\n",
       "      <td>18.162090</td>\n",
       "      <td>17.910570</td>\n",
       "    </tr>\n",
       "  </tbody>\n",
       "</table>\n",
       "</div>"
      ],
      "text/plain": [
       "               imei          mwra      c.katana    c.dogalize  \\\n",
       "count  1.233100e+04  12331.000000  12331.000000  12331.000000   \n",
       "mean   3.879585e+18      0.625497     10.016101     11.181063   \n",
       "std    3.327328e+18      0.484014      2.575195      2.654335   \n",
       "min    3.590434e+17      0.000000      1.384790      1.802460   \n",
       "25%    8.630331e+17      0.000000      8.142165      9.318645   \n",
       "50%    3.590434e+18      1.000000      9.860910     11.288090   \n",
       "75%    8.630331e+18      1.000000     11.811615     13.057150   \n",
       "max    8.630331e+18      1.000000     19.064650     21.522060   \n",
       "\n",
       "       c.android.chrome  c.android.gm  p.android.gm  p.android.documentsui  \\\n",
       "count      12331.000000  12331.000000  12331.000000           12331.000000   \n",
       "mean          11.023363     10.554946      9.983216               9.391937   \n",
       "std            2.710526      2.719858      2.763540               2.365531   \n",
       "min            1.264880      1.730240      0.000000               2.551400   \n",
       "25%            9.125685      8.564910      8.058725               7.785910   \n",
       "50%           11.078720     10.437770      9.873050               9.194260   \n",
       "75%           12.950765     12.511710     11.911765              10.726015   \n",
       "max           20.710650     20.883650     20.563610              20.220660   \n",
       "\n",
       "           p.system  p.android.externalstorage  p.android.settings  \\\n",
       "count  12331.000000               12331.000000        12331.000000   \n",
       "mean      11.163586                  11.713024            9.893613   \n",
       "std        2.310111                   2.393699            2.484082   \n",
       "min        3.050450                   3.463510            2.010490   \n",
       "25%        9.436415                  10.088205            8.058810   \n",
       "50%       11.329550                  11.815800            9.817520   \n",
       "75%       12.900690                  13.396400           11.804595   \n",
       "max       18.999150                  20.060160           18.162090   \n",
       "\n",
       "       p.android.chrome  \n",
       "count      12331.000000  \n",
       "mean           9.894593  \n",
       "std            2.569458  \n",
       "min            0.879270  \n",
       "25%            8.041820  \n",
       "50%            9.922110  \n",
       "75%           11.820470  \n",
       "max           17.910570  "
      ]
     },
     "execution_count": 14,
     "metadata": {},
     "output_type": "execute_result"
    }
   ],
   "source": [
    "def remove_outliers_from_dataframe(df):\n",
    "    def identify_outliers(a):\n",
    "        lower = a.quantile(0.25) - 1.5 * stats.iqr(a)\n",
    "        upper = a.quantile(0.75) + 1.5 * stats.iqr(a)\n",
    "        return (a > upper) | (a < lower)\n",
    "\n",
    "    for column in df.columns:\n",
    "        outlier_mask = identify_outliers(df[column])\n",
    "        lower_bound = df[column].quantile(0.05)\n",
    "        upper_bound = df[column].quantile(0.95)\n",
    "        df.loc[outlier_mask, column] = np.where(\n",
    "            df.loc[outlier_mask, column] < lower_bound,\n",
    "            lower_bound,\n",
    "            upper_bound\n",
    "        )\n",
    "    return df\n",
    "\n",
    "train_df.describe()"
   ]
  },
  {
   "cell_type": "markdown",
   "id": "4cbf1045d967d3c",
   "metadata": {},
   "source": [
    "#### aplikovali sme vymazanie odľahlích hodnôt na všetky stĺpce v trénovacej množine, pričom sme použili percentyl 5 a 95, z dôvodu zachovania normálnych hodnôt, no vyradzujeme extrémne hodnoty na oboch stranách"
   ]
  },
  {
   "cell_type": "code",
   "execution_count": 15,
   "id": "3833b1489e6886df",
   "metadata": {
    "ExecuteTime": {
     "end_time": "2024-11-03T22:05:23.272446Z",
     "start_time": "2024-11-03T22:05:23.259422Z"
    }
   },
   "outputs": [],
   "source": [
    "def handle_missing_values(the_df):\n",
    "    for column in the_df.columns:\n",
    "        if the_df[column].isnull().sum() > 0:\n",
    "            median_value = the_df[column].median()\n",
    "            the_df[column].fillna(median_value, inplace=True)\n",
    "            # df.dropna(inplace=True)\n",
    "    return the_df"
   ]
  },
  {
   "cell_type": "markdown",
   "id": "3cd1d25efad191cf",
   "metadata": {},
   "source": [
    "#### vytvorili sme funkciu na nahradenie missing values pre každý riadok"
   ]
  },
  {
   "cell_type": "code",
   "execution_count": 16,
   "id": "986f145a33aba3e0",
   "metadata": {
    "ExecuteTime": {
     "end_time": "2024-11-03T22:05:23.381576Z",
     "start_time": "2024-11-03T22:05:23.371535Z"
    }
   },
   "outputs": [],
   "source": [
    "def normalize_data(the_df):    \n",
    "    scaler = StandardScaler()\n",
    "    numeric_columns = the_df.select_dtypes(include=['float64', 'int64']).columns\n",
    "    the_df[numeric_columns] = scaler.fit_transform(the_df[numeric_columns])\n",
    "    return the_df"
   ]
  },
  {
   "cell_type": "markdown",
   "id": "9be08c76cef809a3",
   "metadata": {},
   "source": [
    "#### takisto pre normalizáciu dát"
   ]
  },
  {
   "cell_type": "code",
   "execution_count": 17,
   "id": "564924b45663e969",
   "metadata": {
    "ExecuteTime": {
     "end_time": "2024-11-03T22:05:23.536790Z",
     "start_time": "2024-11-03T22:05:23.520783Z"
    }
   },
   "outputs": [],
   "source": [
    "def remove_duplicates(the_df):\n",
    "    the_df = the_df.drop_duplicates()\n",
    "    return the_df"
   ]
  },
  {
   "cell_type": "markdown",
   "id": "635233e25bb34eb9",
   "metadata": {},
   "source": [
    "#### a aj na odstránenie duplikátov, ktoré potom aplikujeme na trénovaciu množinu"
   ]
  },
  {
   "cell_type": "code",
   "execution_count": 18,
   "id": "86f3a7645682911",
   "metadata": {
    "ExecuteTime": {
     "end_time": "2024-11-03T22:05:23.662660Z",
     "start_time": "2024-11-03T22:05:23.633676Z"
    }
   },
   "outputs": [
    {
     "name": "stdout",
     "output_type": "stream",
     "text": [
      "Shape: 11953 rows, 12 columns\n",
      "Duplicates: 0\n"
     ]
    },
    {
     "data": {
      "text/html": [
       "<div>\n",
       "<style scoped>\n",
       "    .dataframe tbody tr th:only-of-type {\n",
       "        vertical-align: middle;\n",
       "    }\n",
       "\n",
       "    .dataframe tbody tr th {\n",
       "        vertical-align: top;\n",
       "    }\n",
       "\n",
       "    .dataframe thead th {\n",
       "        text-align: right;\n",
       "    }\n",
       "</style>\n",
       "<table border=\"1\" class=\"dataframe\">\n",
       "  <thead>\n",
       "    <tr style=\"text-align: right;\">\n",
       "      <th></th>\n",
       "      <th>Missing Values</th>\n",
       "      <th>Data Type</th>\n",
       "    </tr>\n",
       "  </thead>\n",
       "  <tbody>\n",
       "    <tr>\n",
       "      <th>imei</th>\n",
       "      <td>0</td>\n",
       "      <td>float64</td>\n",
       "    </tr>\n",
       "    <tr>\n",
       "      <th>mwra</th>\n",
       "      <td>0</td>\n",
       "      <td>float64</td>\n",
       "    </tr>\n",
       "    <tr>\n",
       "      <th>c.katana</th>\n",
       "      <td>0</td>\n",
       "      <td>float64</td>\n",
       "    </tr>\n",
       "    <tr>\n",
       "      <th>c.dogalize</th>\n",
       "      <td>0</td>\n",
       "      <td>float64</td>\n",
       "    </tr>\n",
       "    <tr>\n",
       "      <th>c.android.chrome</th>\n",
       "      <td>0</td>\n",
       "      <td>float64</td>\n",
       "    </tr>\n",
       "    <tr>\n",
       "      <th>c.android.gm</th>\n",
       "      <td>0</td>\n",
       "      <td>float64</td>\n",
       "    </tr>\n",
       "    <tr>\n",
       "      <th>p.android.gm</th>\n",
       "      <td>0</td>\n",
       "      <td>float64</td>\n",
       "    </tr>\n",
       "    <tr>\n",
       "      <th>p.android.documentsui</th>\n",
       "      <td>0</td>\n",
       "      <td>float64</td>\n",
       "    </tr>\n",
       "    <tr>\n",
       "      <th>p.system</th>\n",
       "      <td>0</td>\n",
       "      <td>float64</td>\n",
       "    </tr>\n",
       "    <tr>\n",
       "      <th>p.android.externalstorage</th>\n",
       "      <td>0</td>\n",
       "      <td>float64</td>\n",
       "    </tr>\n",
       "    <tr>\n",
       "      <th>p.android.settings</th>\n",
       "      <td>0</td>\n",
       "      <td>float64</td>\n",
       "    </tr>\n",
       "    <tr>\n",
       "      <th>p.android.chrome</th>\n",
       "      <td>0</td>\n",
       "      <td>float64</td>\n",
       "    </tr>\n",
       "  </tbody>\n",
       "</table>\n",
       "</div>"
      ],
      "text/plain": [
       "                           Missing Values Data Type\n",
       "imei                                    0   float64\n",
       "mwra                                    0   float64\n",
       "c.katana                                0   float64\n",
       "c.dogalize                              0   float64\n",
       "c.android.chrome                        0   float64\n",
       "c.android.gm                            0   float64\n",
       "p.android.gm                            0   float64\n",
       "p.android.documentsui                   0   float64\n",
       "p.system                                0   float64\n",
       "p.android.externalstorage               0   float64\n",
       "p.android.settings                      0   float64\n",
       "p.android.chrome                        0   float64"
      ]
     },
     "metadata": {},
     "output_type": "display_data"
    }
   ],
   "source": [
    "train_df    = handle_missing_values(train_df)\n",
    "train_df    = normalize_data(train_df)\n",
    "train_df    = remove_duplicates(train_df)\n",
    "\n",
    "analyze_dataframe(train_df)"
   ]
  },
  {
   "cell_type": "markdown",
   "id": "34390f34-58df-40bb-8982-a4265aead981",
   "metadata": {},
   "source": [
    "### C - Transformácia dát"
   ]
  },
  {
   "cell_type": "markdown",
   "id": "533aeef4-f6c5-4b60-8a20-d9df37760998",
   "metadata": {},
   "source": [
    "#### Transformation"
   ]
  },
  {
   "cell_type": "markdown",
   "id": "2cd75d6e-dc3a-4de7-b80e-a341f30af181",
   "metadata": {},
   "source": [
    "##### Power Transformation"
   ]
  },
  {
   "cell_type": "code",
   "execution_count": 19,
   "id": "f310f58f-8753-41d3-af79-5fcc4322cf6c",
   "metadata": {
    "ExecuteTime": {
     "end_time": "2024-11-03T22:05:23.708683Z",
     "start_time": "2024-11-03T22:05:23.678663Z"
    }
   },
   "outputs": [
    {
     "name": "stdout",
     "output_type": "stream",
     "text": [
      "Original Data Description:\n",
      "               imei          mwra      c.katana    c.dogalize  \\\n",
      "count  11953.000000  11953.000000  11953.000000  11953.000000   \n",
      "mean       0.000601     -0.002517      0.000059      0.003410   \n",
      "std        1.000493      1.000691      0.999547      0.999122   \n",
      "min       -1.058112     -1.292364     -3.351847     -3.533458   \n",
      "25%       -0.906636     -1.292364     -0.726635     -0.699855   \n",
      "50%       -0.086906      0.773776     -0.059315      0.045127   \n",
      "75%        1.427854      0.773776      0.697389      0.709983   \n",
      "max        1.427854      0.773776      3.513876      3.896047   \n",
      "\n",
      "       c.android.chrome  c.android.gm  p.android.gm  p.android.documentsui  \\\n",
      "count      11953.000000  11953.000000  11953.000000           11953.000000   \n",
      "mean          -0.001321      0.003201      0.002217              -0.000286   \n",
      "std            1.003014      0.999039      0.999820               0.997285   \n",
      "min           -3.600363     -3.244679     -3.612621              -2.891873   \n",
      "25%           -0.705402     -0.730750     -0.694766              -0.677976   \n",
      "50%            0.019033     -0.039741     -0.040046              -0.078166   \n",
      "75%            0.712797      0.724293      0.698753               0.564468   \n",
      "max            3.574096      3.797671      3.828722               4.577900   \n",
      "\n",
      "           p.system  p.android.externalstorage  p.android.settings  \\\n",
      "count  11953.000000               11953.000000        11953.000000   \n",
      "mean       0.003731                  -0.001888           -0.002703   \n",
      "std        0.998333                   1.001513            0.996963   \n",
      "min       -3.512154                  -3.446485           -3.173583   \n",
      "25%       -0.743595                  -0.688382           -0.736858   \n",
      "50%        0.078417                   0.038998           -0.033484   \n",
      "75%        0.750537                   0.703194            0.759139   \n",
      "max        3.391993                   3.487269            3.328719   \n",
      "\n",
      "       p.android.chrome  \n",
      "count      11953.000000  \n",
      "mean           0.004532  \n",
      "std            1.002454  \n",
      "min           -3.508790  \n",
      "25%           -0.722782  \n",
      "50%            0.013582  \n",
      "75%            0.755555  \n",
      "max            3.119842  \n"
     ]
    }
   ],
   "source": [
    "from sklearn.preprocessing import PowerTransformer\n",
    "\n",
    "print(\"Original Data Description:\")\n",
    "print(train_df.describe())\n",
    "\n",
    "def power_transform(df):\n",
    "    power_transformer = PowerTransformer(method='yeo-johnson')  \n",
    "    train_df_power_transformed = power_transformer.fit_transform(df)\n",
    "    return train_df_power_transformed\n",
    "\n",
    "# Convert transformed data back to DataFrame\n",
    "train_df = pd.DataFrame(train_df, columns=train_df.columns)"
   ]
  },
  {
   "cell_type": "code",
   "execution_count": 20,
   "id": "e7311923-c91a-42b2-9ad4-ee3889955f9a",
   "metadata": {
    "ExecuteTime": {
     "end_time": "2024-11-03T22:05:23.832585Z",
     "start_time": "2024-11-03T22:05:23.804475Z"
    }
   },
   "outputs": [
    {
     "name": "stdout",
     "output_type": "stream",
     "text": [
      "Transformed Data Description:\n",
      "               imei          mwra      c.katana    c.dogalize  \\\n",
      "count  11953.000000  11953.000000  11953.000000  11953.000000   \n",
      "mean       0.000601     -0.002517      0.000059      0.003410   \n",
      "std        1.000493      1.000691      0.999547      0.999122   \n",
      "min       -1.058112     -1.292364     -3.351847     -3.533458   \n",
      "25%       -0.906636     -1.292364     -0.726635     -0.699855   \n",
      "50%       -0.086906      0.773776     -0.059315      0.045127   \n",
      "75%        1.427854      0.773776      0.697389      0.709983   \n",
      "max        1.427854      0.773776      3.513876      3.896047   \n",
      "\n",
      "       c.android.chrome  c.android.gm  p.android.gm  p.android.documentsui  \\\n",
      "count      11953.000000  11953.000000  11953.000000           11953.000000   \n",
      "mean          -0.001321      0.003201      0.002217              -0.000286   \n",
      "std            1.003014      0.999039      0.999820               0.997285   \n",
      "min           -3.600363     -3.244679     -3.612621              -2.891873   \n",
      "25%           -0.705402     -0.730750     -0.694766              -0.677976   \n",
      "50%            0.019033     -0.039741     -0.040046              -0.078166   \n",
      "75%            0.712797      0.724293      0.698753               0.564468   \n",
      "max            3.574096      3.797671      3.828722               4.577900   \n",
      "\n",
      "           p.system  p.android.externalstorage  p.android.settings  \\\n",
      "count  11953.000000               11953.000000        11953.000000   \n",
      "mean       0.003731                  -0.001888           -0.002703   \n",
      "std        0.998333                   1.001513            0.996963   \n",
      "min       -3.512154                  -3.446485           -3.173583   \n",
      "25%       -0.743595                  -0.688382           -0.736858   \n",
      "50%        0.078417                   0.038998           -0.033484   \n",
      "75%        0.750537                   0.703194            0.759139   \n",
      "max        3.391993                   3.487269            3.328719   \n",
      "\n",
      "       p.android.chrome  \n",
      "count      11953.000000  \n",
      "mean           0.004532  \n",
      "std            1.002454  \n",
      "min           -3.508790  \n",
      "25%           -0.722782  \n",
      "50%            0.013582  \n",
      "75%            0.755555  \n",
      "max            3.119842  \n"
     ]
    }
   ],
   "source": [
    "print(\"Transformed Data Description:\")\n",
    "print(train_df.describe())"
   ]
  },
  {
   "cell_type": "code",
   "execution_count": 21,
   "id": "9467f228-9551-45bb-8463-e3c8e75ec5db",
   "metadata": {
    "ExecuteTime": {
     "end_time": "2024-11-03T22:05:24.979812Z",
     "start_time": "2024-11-03T22:05:23.870605Z"
    }
   },
   "outputs": [
    {
     "data": {
      "text/plain": [
       "array([[<Axes: title={'center': 'mwra'}>,\n",
       "        <Axes: title={'center': 'c.katana'}>,\n",
       "        <Axes: title={'center': 'c.dogalize'}>],\n",
       "       [<Axes: title={'center': 'c.android.chrome'}>,\n",
       "        <Axes: title={'center': 'c.android.gm'}>,\n",
       "        <Axes: title={'center': 'p.android.gm'}>],\n",
       "       [<Axes: title={'center': 'p.android.documentsui'}>,\n",
       "        <Axes: title={'center': 'p.system'}>,\n",
       "        <Axes: title={'center': 'p.android.externalstorage'}>],\n",
       "       [<Axes: title={'center': 'p.android.settings'}>,\n",
       "        <Axes: title={'center': 'p.android.chrome'}>, <Axes: >]],\n",
       "      dtype=object)"
      ]
     },
     "execution_count": 21,
     "metadata": {},
     "output_type": "execute_result"
    },
    {
     "data": {
      "image/png": "[encoded data removed]",
      "text/plain": [
       "<Figure size 1200x800 with 12 Axes>"
      ]
     },
     "metadata": {},
     "output_type": "display_data"
    }
   ],
   "source": [
    "train_df.hist(column=train_df.columns[1:],figsize=(12,8))"
   ]
  },
  {
   "cell_type": "markdown",
   "id": "548e201a-6764-476d-8543-677e62b61579",
   "metadata": {},
   "source": [
    "##### Quantile Transformation"
   ]
  },
  {
   "cell_type": "code",
   "execution_count": 22,
   "id": "6bdbaa32-e467-4194-bf29-910cc3350320",
   "metadata": {
    "ExecuteTime": {
     "end_time": "2024-11-03T22:05:25.011493Z",
     "start_time": "2024-11-03T22:05:24.980784Z"
    }
   },
   "outputs": [
    {
     "name": "stdout",
     "output_type": "stream",
     "text": [
      "Original Data Description:\n",
      "               imei          mwra      c.katana    c.dogalize  \\\n",
      "count  11953.000000  11953.000000  11953.000000  11953.000000   \n",
      "mean       0.000601     -0.002517      0.000059      0.003410   \n",
      "std        1.000493      1.000691      0.999547      0.999122   \n",
      "min       -1.058112     -1.292364     -3.351847     -3.533458   \n",
      "25%       -0.906636     -1.292364     -0.726635     -0.699855   \n",
      "50%       -0.086906      0.773776     -0.059315      0.045127   \n",
      "75%        1.427854      0.773776      0.697389      0.709983   \n",
      "max        1.427854      0.773776      3.513876      3.896047   \n",
      "\n",
      "       c.android.chrome  c.android.gm  p.android.gm  p.android.documentsui  \\\n",
      "count      11953.000000  11953.000000  11953.000000           11953.000000   \n",
      "mean          -0.001321      0.003201      0.002217              -0.000286   \n",
      "std            1.003014      0.999039      0.999820               0.997285   \n",
      "min           -3.600363     -3.244679     -3.612621              -2.891873   \n",
      "25%           -0.705402     -0.730750     -0.694766              -0.677976   \n",
      "50%            0.019033     -0.039741     -0.040046              -0.078166   \n",
      "75%            0.712797      0.724293      0.698753               0.564468   \n",
      "max            3.574096      3.797671      3.828722               4.577900   \n",
      "\n",
      "           p.system  p.android.externalstorage  p.android.settings  \\\n",
      "count  11953.000000               11953.000000        11953.000000   \n",
      "mean       0.003731                  -0.001888           -0.002703   \n",
      "std        0.998333                   1.001513            0.996963   \n",
      "min       -3.512154                  -3.446485           -3.173583   \n",
      "25%       -0.743595                  -0.688382           -0.736858   \n",
      "50%        0.078417                   0.038998           -0.033484   \n",
      "75%        0.750537                   0.703194            0.759139   \n",
      "max        3.391993                   3.487269            3.328719   \n",
      "\n",
      "       p.android.chrome  \n",
      "count      11953.000000  \n",
      "mean           0.004532  \n",
      "std            1.002454  \n",
      "min           -3.508790  \n",
      "25%           -0.722782  \n",
      "50%            0.013582  \n",
      "75%            0.755555  \n",
      "max            3.119842  \n"
     ]
    }
   ],
   "source": [
    "from sklearn.preprocessing import QuantileTransformer\n",
    "\n",
    "print(\"Original Data Description:\")\n",
    "print(train_df.describe())\n",
    "\n",
    "def quantile_transform(df):\n",
    "    quantile_transformer = QuantileTransformer(output_distribution='normal')  \n",
    "    train_df_quantile_transformed = quantile_transformer.fit_transform(df)\n",
    "    return train_df_quantile_transformed\n",
    "\n",
    "train_df = pd.DataFrame(train_df, columns=train_df.columns)"
   ]
  },
  {
   "cell_type": "code",
   "execution_count": 23,
   "id": "8a1aaca6-6994-40d3-ada3-013dd9ce8326",
   "metadata": {
    "ExecuteTime": {
     "end_time": "2024-11-03T22:05:25.042950Z",
     "start_time": "2024-11-03T22:05:25.013493Z"
    }
   },
   "outputs": [
    {
     "name": "stdout",
     "output_type": "stream",
     "text": [
      "Transformed Data Description:\n",
      "               imei          mwra      c.katana    c.dogalize  \\\n",
      "count  11953.000000  11953.000000  11953.000000  11953.000000   \n",
      "mean       0.000601     -0.002517      0.000059      0.003410   \n",
      "std        1.000493      1.000691      0.999547      0.999122   \n",
      "min       -1.058112     -1.292364     -3.351847     -3.533458   \n",
      "25%       -0.906636     -1.292364     -0.726635     -0.699855   \n",
      "50%       -0.086906      0.773776     -0.059315      0.045127   \n",
      "75%        1.427854      0.773776      0.697389      0.709983   \n",
      "max        1.427854      0.773776      3.513876      3.896047   \n",
      "\n",
      "       c.android.chrome  c.android.gm  p.android.gm  p.android.documentsui  \\\n",
      "count      11953.000000  11953.000000  11953.000000           11953.000000   \n",
      "mean          -0.001321      0.003201      0.002217              -0.000286   \n",
      "std            1.003014      0.999039      0.999820               0.997285   \n",
      "min           -3.600363     -3.244679     -3.612621              -2.891873   \n",
      "25%           -0.705402     -0.730750     -0.694766              -0.677976   \n",
      "50%            0.019033     -0.039741     -0.040046              -0.078166   \n",
      "75%            0.712797      0.724293      0.698753               0.564468   \n",
      "max            3.574096      3.797671      3.828722               4.577900   \n",
      "\n",
      "           p.system  p.android.externalstorage  p.android.settings  \\\n",
      "count  11953.000000               11953.000000        11953.000000   \n",
      "mean       0.003731                  -0.001888           -0.002703   \n",
      "std        0.998333                   1.001513            0.996963   \n",
      "min       -3.512154                  -3.446485           -3.173583   \n",
      "25%       -0.743595                  -0.688382           -0.736858   \n",
      "50%        0.078417                   0.038998           -0.033484   \n",
      "75%        0.750537                   0.703194            0.759139   \n",
      "max        3.391993                   3.487269            3.328719   \n",
      "\n",
      "       p.android.chrome  \n",
      "count      11953.000000  \n",
      "mean           0.004532  \n",
      "std            1.002454  \n",
      "min           -3.508790  \n",
      "25%           -0.722782  \n",
      "50%            0.013582  \n",
      "75%            0.755555  \n",
      "max            3.119842  \n"
     ]
    }
   ],
   "source": [
    "print(\"Transformed Data Description:\")\n",
    "print(train_df.describe())"
   ]
  },
  {
   "cell_type": "code",
   "execution_count": 24,
   "id": "7371343f-bb63-49e6-995f-50fc684ad5e9",
   "metadata": {
    "ExecuteTime": {
     "end_time": "2024-11-03T22:05:26.072620Z",
     "start_time": "2024-11-03T22:05:25.044853Z"
    }
   },
   "outputs": [
    {
     "data": {
      "text/plain": [
       "array([[<Axes: title={'center': 'mwra'}>,\n",
       "        <Axes: title={'center': 'c.katana'}>,\n",
       "        <Axes: title={'center': 'c.dogalize'}>],\n",
       "       [<Axes: title={'center': 'c.android.chrome'}>,\n",
       "        <Axes: title={'center': 'c.android.gm'}>,\n",
       "        <Axes: title={'center': 'p.android.gm'}>],\n",
       "       [<Axes: title={'center': 'p.android.documentsui'}>,\n",
       "        <Axes: title={'center': 'p.system'}>,\n",
       "        <Axes: title={'center': 'p.android.externalstorage'}>],\n",
       "       [<Axes: title={'center': 'p.android.settings'}>,\n",
       "        <Axes: title={'center': 'p.android.chrome'}>, <Axes: >]],\n",
       "      dtype=object)"
      ]
     },
     "execution_count": 24,
     "metadata": {},
     "output_type": "execute_result"
    },
    {
     "data": {
      "image/png": "[encoded data removed]",
      "text/plain": [
       "<Figure size 1200x800 with 12 Axes>"
      ]
     },
     "metadata": {},
     "output_type": "display_data"
    }
   ],
   "source": [
    "train_df.hist(column=train_df.columns[1:],figsize=(12,8))"
   ]
  },
  {
   "cell_type": "markdown",
   "id": "5fb8497e-eee4-42c1-a3a5-302dd4624e22",
   "metadata": {},
   "source": [
    "#### Scaling"
   ]
  },
  {
   "cell_type": "markdown",
   "id": "43aea099-776d-4e5b-bed5-d75178a603df",
   "metadata": {},
   "source": [
    "##### Standard Scaling"
   ]
  },
  {
   "cell_type": "code",
   "execution_count": 25,
   "id": "4be1e74d-7c7f-49a8-8274-92f9ac03b980",
   "metadata": {
    "ExecuteTime": {
     "end_time": "2024-11-03T22:05:26.104637Z",
     "start_time": "2024-11-03T22:05:26.073594Z"
    }
   },
   "outputs": [
    {
     "name": "stdout",
     "output_type": "stream",
     "text": [
      "               imei          mwra      c.katana    c.dogalize  \\\n",
      "count  11953.000000  11953.000000  11953.000000  11953.000000   \n",
      "mean       0.000601     -0.002517      0.000059      0.003410   \n",
      "std        1.000493      1.000691      0.999547      0.999122   \n",
      "min       -1.058112     -1.292364     -3.351847     -3.533458   \n",
      "25%       -0.906636     -1.292364     -0.726635     -0.699855   \n",
      "50%       -0.086906      0.773776     -0.059315      0.045127   \n",
      "75%        1.427854      0.773776      0.697389      0.709983   \n",
      "max        1.427854      0.773776      3.513876      3.896047   \n",
      "\n",
      "       c.android.chrome  c.android.gm  p.android.gm  p.android.documentsui  \\\n",
      "count      11953.000000  11953.000000  11953.000000           11953.000000   \n",
      "mean          -0.001321      0.003201      0.002217              -0.000286   \n",
      "std            1.003014      0.999039      0.999820               0.997285   \n",
      "min           -3.600363     -3.244679     -3.612621              -2.891873   \n",
      "25%           -0.705402     -0.730750     -0.694766              -0.677976   \n",
      "50%            0.019033     -0.039741     -0.040046              -0.078166   \n",
      "75%            0.712797      0.724293      0.698753               0.564468   \n",
      "max            3.574096      3.797671      3.828722               4.577900   \n",
      "\n",
      "           p.system  p.android.externalstorage  p.android.settings  \\\n",
      "count  11953.000000               11953.000000        11953.000000   \n",
      "mean       0.003731                  -0.001888           -0.002703   \n",
      "std        0.998333                   1.001513            0.996963   \n",
      "min       -3.512154                  -3.446485           -3.173583   \n",
      "25%       -0.743595                  -0.688382           -0.736858   \n",
      "50%        0.078417                   0.038998           -0.033484   \n",
      "75%        0.750537                   0.703194            0.759139   \n",
      "max        3.391993                   3.487269            3.328719   \n",
      "\n",
      "       p.android.chrome  \n",
      "count      11953.000000  \n",
      "mean           0.004532  \n",
      "std            1.002454  \n",
      "min           -3.508790  \n",
      "25%           -0.722782  \n",
      "50%            0.013582  \n",
      "75%            0.755555  \n",
      "max            3.119842  \n"
     ]
    }
   ],
   "source": [
    "print(train_df.describe())\n",
    "def standard_scale(df):\n",
    "    scaler_standard = StandardScaler()\n",
    "    train_df_standard_scaled = scaler_standard.fit_transform(df)\n",
    "    \n",
    "    # Shift the data to make all values non-negative\n",
    "    train_df_standard_scaled_shifted = train_df_standard_scaled - np.min(train_df_standard_scaled)\n",
    "    return train_df_standard_scaled_shifted"
   ]
  },
  {
   "cell_type": "code",
   "execution_count": 26,
   "id": "66a17af6-f6d1-4cd9-86e3-bd4fadfade9e",
   "metadata": {
    "ExecuteTime": {
     "end_time": "2024-11-03T22:05:26.135193Z",
     "start_time": "2024-11-03T22:05:26.105651Z"
    }
   },
   "outputs": [
    {
     "name": "stdout",
     "output_type": "stream",
     "text": [
      "\n",
      "Stardard Scaled\n",
      "               imei          mwra      c.katana    c.dogalize  \\\n",
      "count  11953.000000  11953.000000  11953.000000  11953.000000   \n",
      "mean       3.615641      3.615641      3.615641      3.615641   \n",
      "std        1.000042      1.000042      1.000042      1.000042   \n",
      "min        2.557406      2.326632      0.262075      0.075517   \n",
      "25%        2.708814      2.326632      2.888587      2.911729   \n",
      "50%        3.528174      4.391431      3.556238      3.657396   \n",
      "75%        5.042250      4.391431      4.313316      4.322864   \n",
      "max        5.042250      4.391431      7.131198      7.511861   \n",
      "\n",
      "       c.android.chrome  c.android.gm  p.android.gm  p.android.documentsui  \\\n",
      "count      11953.000000  11953.000000  11953.000000           11953.000000   \n",
      "mean           3.615641      3.615641      3.615641               3.615641   \n",
      "std            1.000042      1.000042      1.000042               1.000042   \n",
      "min            0.027266      0.364500      0.000000               0.716060   \n",
      "25%            2.913647      2.880953      2.918503               2.936078   \n",
      "50%            3.635935      3.572656      3.573368               3.537546   \n",
      "75%            4.327643      4.337458      4.312333               4.181957   \n",
      "max            7.180462      7.413922      7.442997               8.206484   \n",
      "\n",
      "           p.system  p.android.externalstorage  p.android.settings  \\\n",
      "count  11953.000000               11953.000000        11953.000000   \n",
      "mean       3.615641                   3.615641            3.615641   \n",
      "std        1.000042                   1.000042            1.000042   \n",
      "min        0.093740                   0.176106            0.434969   \n",
      "25%        2.867037                   2.930156            2.879219   \n",
      "50%        3.690455                   3.656468            3.584765   \n",
      "75%        4.363725                   4.319687            4.379836   \n",
      "max        7.009702                   7.099672            6.957351   \n",
      "\n",
      "       p.android.chrome  \n",
      "count      11953.000000  \n",
      "mean           3.615641  \n",
      "std            1.000042  \n",
      "min            0.110773  \n",
      "25%            2.890077  \n",
      "50%            3.624670  \n",
      "75%            4.364857  \n",
      "max            6.723456  \n"
     ]
    }
   ],
   "source": [
    "train_df = pd.DataFrame(standard_scale(train_df), columns=train_df.columns)\n",
    "\n",
    "\n",
    "print(\"\\nStardard Scaled\")\n",
    "print(train_df.describe())"
   ]
  },
  {
   "cell_type": "code",
   "execution_count": 27,
   "id": "997f5074-e357-4078-9075-7f9602e8e08e",
   "metadata": {
    "ExecuteTime": {
     "end_time": "2024-11-03T22:05:27.101507Z",
     "start_time": "2024-11-03T22:05:26.136140Z"
    }
   },
   "outputs": [
    {
     "data": {
      "text/plain": [
       "array([[<Axes: title={'center': 'mwra'}>,\n",
       "        <Axes: title={'center': 'c.katana'}>,\n",
       "        <Axes: title={'center': 'c.dogalize'}>],\n",
       "       [<Axes: title={'center': 'c.android.chrome'}>,\n",
       "        <Axes: title={'center': 'c.android.gm'}>,\n",
       "        <Axes: title={'center': 'p.android.gm'}>],\n",
       "       [<Axes: title={'center': 'p.android.documentsui'}>,\n",
       "        <Axes: title={'center': 'p.system'}>,\n",
       "        <Axes: title={'center': 'p.android.externalstorage'}>],\n",
       "       [<Axes: title={'center': 'p.android.settings'}>,\n",
       "        <Axes: title={'center': 'p.android.chrome'}>, <Axes: >]],\n",
       "      dtype=object)"
      ]
     },
     "execution_count": 27,
     "metadata": {},
     "output_type": "execute_result"
    },
    {
     "data": {
      "image/png": "[encoded data removed]",
      "text/plain": [
       "<Figure size 1200x800 with 12 Axes>"
      ]
     },
     "metadata": {},
     "output_type": "display_data"
    }
   ],
   "source": [
    "train_df.hist(column=train_df.columns[1:],figsize=(12,8))"
   ]
  },
  {
   "cell_type": "markdown",
   "id": "6b7e357e-48a4-4fbd-869e-efa3bc8a12ed",
   "metadata": {},
   "source": [
    "##### Min-Max Scaling"
   ]
  },
  {
   "cell_type": "code",
   "execution_count": 28,
   "id": "c77bbaf5-da75-42a9-9989-2593bff24dea",
   "metadata": {
    "ExecuteTime": {
     "end_time": "2024-11-03T22:05:27.132708Z",
     "start_time": "2024-11-03T22:05:27.102486Z"
    }
   },
   "outputs": [
    {
     "name": "stdout",
     "output_type": "stream",
     "text": [
      "               imei          mwra      c.katana    c.dogalize  \\\n",
      "count  11953.000000  11953.000000  11953.000000  11953.000000   \n",
      "mean       3.615641      3.615641      3.615641      3.615641   \n",
      "std        1.000042      1.000042      1.000042      1.000042   \n",
      "min        2.557406      2.326632      0.262075      0.075517   \n",
      "25%        2.708814      2.326632      2.888587      2.911729   \n",
      "50%        3.528174      4.391431      3.556238      3.657396   \n",
      "75%        5.042250      4.391431      4.313316      4.322864   \n",
      "max        5.042250      4.391431      7.131198      7.511861   \n",
      "\n",
      "       c.android.chrome  c.android.gm  p.android.gm  p.android.documentsui  \\\n",
      "count      11953.000000  11953.000000  11953.000000           11953.000000   \n",
      "mean           3.615641      3.615641      3.615641               3.615641   \n",
      "std            1.000042      1.000042      1.000042               1.000042   \n",
      "min            0.027266      0.364500      0.000000               0.716060   \n",
      "25%            2.913647      2.880953      2.918503               2.936078   \n",
      "50%            3.635935      3.572656      3.573368               3.537546   \n",
      "75%            4.327643      4.337458      4.312333               4.181957   \n",
      "max            7.180462      7.413922      7.442997               8.206484   \n",
      "\n",
      "           p.system  p.android.externalstorage  p.android.settings  \\\n",
      "count  11953.000000               11953.000000        11953.000000   \n",
      "mean       3.615641                   3.615641            3.615641   \n",
      "std        1.000042                   1.000042            1.000042   \n",
      "min        0.093740                   0.176106            0.434969   \n",
      "25%        2.867037                   2.930156            2.879219   \n",
      "50%        3.690455                   3.656468            3.584765   \n",
      "75%        4.363725                   4.319687            4.379836   \n",
      "max        7.009702                   7.099672            6.957351   \n",
      "\n",
      "       p.android.chrome  \n",
      "count      11953.000000  \n",
      "mean           3.615641  \n",
      "std            1.000042  \n",
      "min            0.110773  \n",
      "25%            2.890077  \n",
      "50%            3.624670  \n",
      "75%            4.364857  \n",
      "max            6.723456  \n"
     ]
    }
   ],
   "source": [
    "from sklearn.preprocessing import MinMaxScaler\n",
    "print(train_df.describe())\n",
    "\n",
    "def min_max_scale(df):\n",
    "    scaler_minmax = MinMaxScaler(feature_range=(0,5))\n",
    "    train_df_minmax = scaler_minmax.fit_transform(df)\n",
    "    return train_df_minmax "
   ]
  },
  {
   "cell_type": "code",
   "execution_count": 29,
   "id": "6ec59b5f-ff58-49e6-95ed-87f75716f9d9",
   "metadata": {
    "ExecuteTime": {
     "end_time": "2024-11-03T22:05:27.164327Z",
     "start_time": "2024-11-03T22:05:27.133677Z"
    }
   },
   "outputs": [
    {
     "name": "stdout",
     "output_type": "stream",
     "text": [
      "\n",
      "Min-Max Scaled\n",
      "               imei          mwra      c.katana    c.dogalize  \\\n",
      "count  11953.000000  11953.000000  11953.000000  11953.000000   \n",
      "mean       2.129380      3.121392      2.441044      2.380285   \n",
      "std        2.012283      2.421645      0.727925      0.672402   \n",
      "min        0.000000      0.000000      0.000000      0.000000   \n",
      "25%        0.304662      0.000000      1.911825      1.906994   \n",
      "50%        1.953378      5.000000      2.397805      2.408360   \n",
      "75%        5.000000      5.000000      2.948878      2.855803   \n",
      "max        5.000000      5.000000      5.000000      5.000000   \n",
      "\n",
      "       c.android.chrome  c.android.gm  p.android.gm  p.android.documentsui  \\\n",
      "count      11953.000000  11953.000000  11953.000000           11953.000000   \n",
      "mean           2.508232      2.305963      2.428888               1.935525   \n",
      "std            0.699017      0.709308      0.671801               0.667547   \n",
      "min            0.000000      0.000000      0.000000               0.000000   \n",
      "25%            2.017547      1.784865      1.960570               1.481904   \n",
      "50%            2.522417      2.275475      2.400490               1.883395   \n",
      "75%            3.005913      2.817932      2.896906               2.313552   \n",
      "max            5.000000      5.000000      5.000000               5.000000   \n",
      "\n",
      "           p.system  p.android.externalstorage  p.android.settings  \\\n",
      "count  11953.000000               11953.000000        11953.000000   \n",
      "mean       2.546212                   2.483933            2.438275   \n",
      "std        0.722995                   0.722201            0.766623   \n",
      "min        0.000000                   0.000000            0.000000   \n",
      "25%        2.004997                   1.988895            1.873740   \n",
      "50%        2.600300                   2.513417            2.414606   \n",
      "75%        3.087051                   2.992375            3.024100   \n",
      "max        5.000000                   5.000000            5.000000   \n",
      "\n",
      "       p.android.chrome  \n",
      "count      11953.000000  \n",
      "mean           2.650111  \n",
      "std            0.756154  \n",
      "min            0.000000  \n",
      "25%            2.101495  \n",
      "50%            2.656938  \n",
      "75%            3.216610  \n",
      "max            5.000000  \n"
     ]
    }
   ],
   "source": [
    "train_df = pd.DataFrame(min_max_scale(train_df), columns=train_df.columns)\n",
    "\n",
    "print(\"\\nMin-Max Scaled\")\n",
    "print(train_df.describe())"
   ]
  },
  {
   "cell_type": "code",
   "execution_count": 30,
   "id": "37a322dc-243f-45c2-9622-a90f6f8421f3",
   "metadata": {
    "ExecuteTime": {
     "end_time": "2024-11-03T22:05:28.311608Z",
     "start_time": "2024-11-03T22:05:27.166333Z"
    }
   },
   "outputs": [
    {
     "data": {
      "text/plain": [
       "array([[<Axes: title={'center': 'c.katana'}>,\n",
       "        <Axes: title={'center': 'c.dogalize'}>,\n",
       "        <Axes: title={'center': 'c.android.chrome'}>],\n",
       "       [<Axes: title={'center': 'c.android.gm'}>,\n",
       "        <Axes: title={'center': 'p.android.gm'}>,\n",
       "        <Axes: title={'center': 'p.android.documentsui'}>],\n",
       "       [<Axes: title={'center': 'p.system'}>,\n",
       "        <Axes: title={'center': 'p.android.externalstorage'}>,\n",
       "        <Axes: title={'center': 'p.android.settings'}>],\n",
       "       [<Axes: title={'center': 'p.android.chrome'}>, <Axes: >, <Axes: >]],\n",
       "      dtype=object)"
      ]
     },
     "execution_count": 30,
     "metadata": {},
     "output_type": "execute_result"
    },
    {
     "data": {
      "image/png": "[encoded data removed]",
      "text/plain": [
       "<Figure size 1200x800 with 12 Axes>"
      ]
     },
     "metadata": {},
     "output_type": "display_data"
    }
   ],
   "source": [
    "train_df.hist(column=train_df.columns.drop([\"imei\", \"mwra\"]), figsize=(12, 8))"
   ]
  },
  {
   "cell_type": "markdown",
   "id": "ad3e295fd9cf9de0",
   "metadata": {},
   "source": [
    "## 2.2 Výber atribútov pre strojové učenie"
   ]
  },
  {
   "cell_type": "markdown",
   "id": "d9663924a4f693dd",
   "metadata": {},
   "source": [
    "### A/C - Zisťujeme, ktoré atribúty sú pre ML informatívne k predikovanej premennej + zdôvodnenie"
   ]
  },
  {
   "cell_type": "markdown",
   "id": "589aa16f58c67a10",
   "metadata": {},
   "source": [
    "#### RFE - je iteratívna metóda výberu atribútov, ktorá postupne odstraňuje najmenej dôležité atribúty na základe ich prínosu (ich vplyv na model) pre model. Vybrali sme ju, pretože umožňuje identifikovať atribúty, ktoré majú najsilnejší vplyv na predikciu"
   ]
  },
  {
   "cell_type": "code",
   "execution_count": 31,
   "id": "4577e1b93bc9e086",
   "metadata": {
    "ExecuteTime": {
     "end_time": "2024-11-03T22:05:55.983682Z",
     "start_time": "2024-11-03T22:05:28.312591Z"
    }
   },
   "outputs": [
    {
     "name": "stdout",
     "output_type": "stream",
     "text": [
      "['c.katana', 'c.android.chrome', 'c.android.gm', 'p.android.gm']\n"
     ]
    }
   ],
   "source": [
    "def get_top_rfe(X, y):\n",
    "\n",
    "    estimator = SVR(kernel=\"linear\")\n",
    "    selector = RFE(estimator, n_features_to_select=4, step=1)\n",
    "    selector.fit(X, y)\n",
    "\n",
    "    features = X.columns[selector.support_].tolist()\n",
    "    return features\n",
    "\n",
    "X = train_df.drop(columns=['mwra'])\n",
    "y = train_df['mwra']\n",
    "\n",
    "features1 = get_top_rfe(X, y)\n",
    "print(features1)"
   ]
  },
  {
   "cell_type": "markdown",
   "id": "a5d97795241c44cc",
   "metadata": {},
   "source": []
  },
  {
   "cell_type": "markdown",
   "id": "4e5b675c0a717b79",
   "metadata": {},
   "source": [
    "#### Korelačná analýza - základná metóda, pomocou ktorej sme identifikovali lineárne vzťahy medzi atribútmi a mwra. Potrebná na zistenie, ktoré atribúty sú silno lineárne prepojené s mwra. Vybrali sme si ju kôli jednoduchosti a vhodnosti pre náš model."
   ]
  },
  {
   "cell_type": "code",
   "execution_count": 32,
   "id": "965fe9eec43d1f71",
   "metadata": {
    "ExecuteTime": {
     "end_time": "2024-11-03T22:05:55.999700Z",
     "start_time": "2024-11-03T22:05:55.985693Z"
    }
   },
   "outputs": [
    {
     "name": "stdout",
     "output_type": "stream",
     "text": [
      "['c.katana', 'c.android.chrome', 'p.android.gm', 'p.android.documentsui']\n"
     ]
    }
   ],
   "source": [
    "def get_top_correlations(the_df):\n",
    "    numerical_columns = the_df.select_dtypes(include=[np.number])\n",
    "    correlation_matrix = numerical_columns.corr()\n",
    "    \n",
    "    target_correlations = correlation_matrix[\"mwra\"].drop(\"mwra\")\n",
    "    features = target_correlations.abs().sort_values(ascending=False).head(4)\n",
    "    \n",
    "    return features.index.tolist()\n",
    "\n",
    "features2 = get_top_correlations(train_df)\n",
    "print(features2)"
   ]
  },
  {
   "cell_type": "markdown",
   "id": "f55b0df97631027f",
   "metadata": {},
   "source": [
    "#### Mutual info - použitá na meranie množstva informácií, ktoré jeden atribút poskytuje o mrwa. Použili sme ju aj preto, pretože zachytáva aj nelineárne vzťahy medzi premennými, čiže veľmi jedinečné informácie, ktoré niesú lineárne závislé"
   ]
  },
  {
   "cell_type": "code",
   "execution_count": 33,
   "id": "372a793b39781221",
   "metadata": {
    "ExecuteTime": {
     "end_time": "2024-11-03T22:05:56.967623Z",
     "start_time": "2024-11-03T22:05:56.000665Z"
    }
   },
   "outputs": [
    {
     "name": "stdout",
     "output_type": "stream",
     "text": [
      "['c.katana', 'p.android.gm', 'c.android.chrome', 'p.android.documentsui']\n"
     ]
    }
   ],
   "source": [
    "def get_top_mutual_info(X, y):\n",
    "    selector = mutual_info_regression(X, y)\n",
    "    scores = pd.Series(selector, index=X.columns)\n",
    "    top_features = scores.nlargest(4)\n",
    "    return top_features.index.tolist()\n",
    "\n",
    "X = train_df.drop('mwra', axis=1)\n",
    "y = train_df['mwra']\n",
    "\n",
    "features3 = get_top_mutual_info(X, y)\n",
    "print(features3)\n"
   ]
  },
  {
   "cell_type": "code",
   "execution_count": 34,
   "id": "de3c73b0d15d9a34",
   "metadata": {
    "ExecuteTime": {
     "end_time": "2024-11-03T22:05:56.983656Z",
     "start_time": "2024-11-03T22:05:56.968590Z"
    }
   },
   "outputs": [],
   "source": [
    "from sklearn.ensemble import RandomForestRegressor\n",
    "\n",
    "def get_top_feature_importance(X, y):\n",
    "    model = RandomForestRegressor(n_estimators=100, random_state=42)\n",
    "    model.fit(X, y)\n",
    "    importances = model.feature_importances_\n",
    "    return pd.Series(importances, index=X.columns).nlargest(4).index.tolist()"
   ]
  },
  {
   "cell_type": "markdown",
   "id": "bb1f374275bc1240",
   "metadata": {},
   "source": [
    "### B/C - zoradenie atribútov + zdôvodnenie"
   ]
  },
  {
   "cell_type": "markdown",
   "id": "607cf0abbd107db7",
   "metadata": {},
   "source": [
    "#### Na základe analýzy sme identifikovali najrelevantnejšie atribúty ovplyvňujúce mwra:\n",
    "1. c.katana\n",
    "2. c.android.chrome\n",
    "3. p.android.gm\n",
    "#### usporiadali sme tieto atribúty v takomto poradí a to na základe výsledkov z predošlích testov, keďže RFE podľa modelu SVR s lineárnym jadromnajlepšie predpovedá tieto atribúty:\n",
    "['c.katana', 'c.android.chrome', 'c.android.gm', 'p.android.gm']\n",
    "#### podobne predpovedala aj korelačná závislosť, no rozdiel bol len v jednom atribúte,\n",
    "['c.katana', 'c.android.chrome', 'p.android.gm', 'p.system']\n",
    "#### pri mutual information, ktorá sa zameriava na to, koľko informáacií poskytuje každý atribút o mrwa, zistili sme, že najvplyvňejšie atribúty sú:\n",
    "['c.katana', 'c.android.chrome', 'p.android.gm', 'p.android.settings']"
   ]
  },
  {
   "cell_type": "markdown",
   "id": "560ee1c9682179e2",
   "metadata": {},
   "source": [
    "## 2.3 Replikovateľnosť predspracovania"
   ]
  },
  {
   "cell_type": "markdown",
   "id": "dfb43aadb4091430",
   "metadata": {},
   "source": [
    "### A/B"
   ]
  },
  {
   "cell_type": "markdown",
   "id": "1d9995b45fdab2e1",
   "metadata": {},
   "source": [
    "#### všetky úpravy dát sú robené vo funkciách, ktoré sú aplikovateľné aj pre ďalšie použitie"
   ]
  },
  {
   "cell_type": "code",
   "execution_count": 35,
   "id": "5488683806fca372",
   "metadata": {
    "ExecuteTime": {
     "end_time": "2024-11-03T22:05:57.245907Z",
     "start_time": "2024-11-03T22:05:56.985655Z"
    }
   },
   "outputs": [
    {
     "name": "stdout",
     "output_type": "stream",
     "text": [
      "imei                         float64\n",
      "mwra                         float64\n",
      "c.katana                     float64\n",
      "c.dogalize                   float64\n",
      "c.android.chrome             float64\n",
      "c.android.gm                 float64\n",
      "p.android.gm                 float64\n",
      "p.android.documentsui        float64\n",
      "p.system                     float64\n",
      "p.android.externalstorage    float64\n",
      "p.android.settings           float64\n",
      "p.android.chrome             float64\n",
      "dtype: object\n"
     ]
    }
   ],
   "source": [
    "test_df = test_df.drop(['ts'], axis=1)\n",
    "\n",
    "test_df = remove_outliers_from_dataframe(test_df)\n",
    "\n",
    "test_df = handle_missing_values(test_df)\n",
    "\n",
    "test_df = normalize_data(test_df)\n",
    "\n",
    "test_df = remove_duplicates(test_df)\n",
    "\n",
    "test_df_power_transformed = power_transform(test_df)\n",
    "\n",
    "test_df_quantile_transformed = quantile_transform(test_df)\n",
    "\n",
    "print(train_df.dtypes)\n",
    "\n",
    "test_df.to_csv(\"test_data.csv\")\n"
   ]
  },
  {
   "cell_type": "markdown",
   "id": "a1bb3e225bbdc307",
   "metadata": {},
   "source": [
    "### 50/50"
   ]
  }
 ],
 "metadata": {
  "kernelspec": {
   "display_name": "Python 3 (ipykernel)",
   "language": "python",
   "name": "python3"
  },
  "language_info": {
   "codemirror_mode": {
    "name": "ipython",
    "version": 3
   },
   "file_extension": ".py",
   "mimetype": "text/x-python",
   "name": "python",
   "nbconvert_exporter": "python",
   "pygments_lexer": "ipython3",
   "version": "3.12.6"
  }
 },
 "nbformat": 4,
 "nbformat_minor": 5
}
